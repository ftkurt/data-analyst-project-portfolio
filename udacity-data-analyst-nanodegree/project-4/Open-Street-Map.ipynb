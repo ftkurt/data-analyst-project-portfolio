{
 "cells": [
  {
   "cell_type": "markdown",
   "metadata": {},
   "source": [
    "# Introduction"
   ]
  },
  {
   "cell_type": "markdown",
   "metadata": {},
   "source": [
    "The largest city in Turkey that I am familiar with is İstanbul. Therefore, I thought I could look at the map and check if I can catch anything of significance. "
   ]
  },
  {
   "cell_type": "code",
   "execution_count": 1,
   "metadata": {
    "collapsed": false
   },
   "outputs": [],
   "source": [
    "import xml.etree.cElementTree as ET\n",
    "import pandas as pd\n",
    "import pprint\n",
    "import bz2file\n",
    "import operator\n",
    "import numpy as np\n",
    "import os"
   ]
  },
  {
   "cell_type": "code",
   "execution_count": 2,
   "metadata": {
    "collapsed": true
   },
   "outputs": [],
   "source": [
    "DATA_FILE = \"istanbul_turkey.osm\""
   ]
  },
  {
   "cell_type": "code",
   "execution_count": 3,
   "metadata": {
    "collapsed": false
   },
   "outputs": [],
   "source": [
    "bz2_data = bz2file.BZ2File(DATA_FILE+\".bz2\").read()\n",
    "open(DATA_FILE, 'wb').write(bz2_data)"
   ]
  },
  {
   "cell_type": "markdown",
   "metadata": {},
   "source": [
    "I want to first check my data to see what hierarchy it has. Below functions will extract tags and hierarchy in my dataset. It will also extract attributes and child tags for each tag residing within our XML file. "
   ]
  },
  {
   "cell_type": "code",
   "execution_count": 4,
   "metadata": {
    "collapsed": true
   },
   "outputs": [],
   "source": [
    "# This function will traverse attributes and childs for each tag type.\n",
    "def define_file(filename):\n",
    "    tags = {}\n",
    "    for event, elem in ET.iterparse(filename):\n",
    "        if elem.tag not in tags:\n",
    "            tags[elem.tag] = {\"count\":0,\"attribs\":set(),\"childs\":set()}\n",
    "        tags[elem.tag][\"count\"] += 1\n",
    "        for attr in elem.attrib:\n",
    "            tags[elem.tag][\"attribs\"].add(attr)\n",
    "        for elem_ in elem.getiterator():\n",
    "            if elem_ != elem:\n",
    "                tags[elem.tag][\"childs\"].add(elem_.tag)\n",
    "    return tags"
   ]
  },
  {
   "cell_type": "code",
   "execution_count": 5,
   "metadata": {
    "collapsed": false
   },
   "outputs": [
    {
     "data": {
      "text/html": [
       "<div>\n",
       "<style>\n",
       "    .dataframe thead tr:only-child th {\n",
       "        text-align: right;\n",
       "    }\n",
       "\n",
       "    .dataframe thead th {\n",
       "        text-align: left;\n",
       "    }\n",
       "\n",
       "    .dataframe tbody tr th {\n",
       "        vertical-align: top;\n",
       "    }\n",
       "</style>\n",
       "<table border=\"1\" class=\"dataframe\">\n",
       "  <thead>\n",
       "    <tr style=\"text-align: right;\">\n",
       "      <th></th>\n",
       "      <th>bounds</th>\n",
       "      <th>member</th>\n",
       "      <th>nd</th>\n",
       "      <th>node</th>\n",
       "      <th>osm</th>\n",
       "      <th>relation</th>\n",
       "      <th>tag</th>\n",
       "      <th>way</th>\n",
       "    </tr>\n",
       "  </thead>\n",
       "  <tbody>\n",
       "    <tr>\n",
       "      <th>attribs</th>\n",
       "      <td>{minlat, maxlon, minlon, maxlat}</td>\n",
       "      <td>{role, ref, type}</td>\n",
       "      <td>{ref}</td>\n",
       "      <td>{changeset, uid, timestamp, lon, version, user...</td>\n",
       "      <td>{timestamp, version, generator}</td>\n",
       "      <td>{changeset, uid, timestamp, version, user, id}</td>\n",
       "      <td>{k, v}</td>\n",
       "      <td>{changeset, uid, timestamp, version, user, id}</td>\n",
       "    </tr>\n",
       "    <tr>\n",
       "      <th>childs</th>\n",
       "      <td>{}</td>\n",
       "      <td>{}</td>\n",
       "      <td>{}</td>\n",
       "      <td>{tag}</td>\n",
       "      <td>{node, nd, bounds, member, tag, relation, way}</td>\n",
       "      <td>{member, tag}</td>\n",
       "      <td>{}</td>\n",
       "      <td>{tag, nd}</td>\n",
       "    </tr>\n",
       "    <tr>\n",
       "      <th>count</th>\n",
       "      <td>1</td>\n",
       "      <td>8034</td>\n",
       "      <td>1498568</td>\n",
       "      <td>1164528</td>\n",
       "      <td>1</td>\n",
       "      <td>694</td>\n",
       "      <td>370703</td>\n",
       "      <td>192562</td>\n",
       "    </tr>\n",
       "  </tbody>\n",
       "</table>\n",
       "</div>"
      ],
      "text/plain": [
       "                                   bounds             member       nd  \\\n",
       "attribs  {minlat, maxlon, minlon, maxlat}  {role, ref, type}    {ref}   \n",
       "childs                                 {}                 {}       {}   \n",
       "count                                   1               8034  1498568   \n",
       "\n",
       "                                                      node  \\\n",
       "attribs  {changeset, uid, timestamp, lon, version, user...   \n",
       "childs                                               {tag}   \n",
       "count                                              1164528   \n",
       "\n",
       "                                                    osm  \\\n",
       "attribs                 {timestamp, version, generator}   \n",
       "childs   {node, nd, bounds, member, tag, relation, way}   \n",
       "count                                                 1   \n",
       "\n",
       "                                               relation     tag  \\\n",
       "attribs  {changeset, uid, timestamp, version, user, id}  {k, v}   \n",
       "childs                                    {member, tag}      {}   \n",
       "count                                               694  370703   \n",
       "\n",
       "                                                    way  \n",
       "attribs  {changeset, uid, timestamp, version, user, id}  \n",
       "childs                                        {tag, nd}  \n",
       "count                                            192562  "
      ]
     },
     "execution_count": 5,
     "metadata": {},
     "output_type": "execute_result"
    }
   ],
   "source": [
    "file_tag_stats = define_file(DATA_FILE)\n",
    "df = pd.DataFrame(file_tag_stats)\n",
    "df"
   ]
  },
  {
   "cell_type": "markdown",
   "metadata": {},
   "source": [
    "From above table we can see that the main tag types are **tags**, **ways**, **nodes**, and **nds**. I am going to ignore nd types since they only provide some references. "
   ]
  },
  {
   "cell_type": "markdown",
   "metadata": {},
   "source": [
    "Historically, Istanbul had been a very diverse city. Until recent decades, there were a large number of followers of different religions, particularly Ortodox Christians. Therefore, I would like to explore into religious places in Istanbul, and see what is current distribution of religious places in Istanbul. This data might provide insight into proportion of Istanbulites into different religious groups. "
   ]
  },
  {
   "cell_type": "markdown",
   "metadata": {},
   "source": [
    "I do not know what types of places are there which are tagged as religious, so I think I should first look into nodes/ways tagged with religion key."
   ]
  },
  {
   "cell_type": "markdown",
   "metadata": {},
   "source": [
    "Functions below will explore XML to find stats and sample entries for **element tag** - **tag key** relationships. "
   ]
  },
  {
   "cell_type": "code",
   "execution_count": 6,
   "metadata": {
    "collapsed": false
   },
   "outputs": [],
   "source": [
    "def isTypeOf(tag_,key):\n",
    "    return (key == tag_.attrib['k'])"
   ]
  },
  {
   "cell_type": "code",
   "execution_count": 7,
   "metadata": {
    "collapsed": true
   },
   "outputs": [],
   "source": [
    "def add_type(result,value):\n",
    "    if value in result:\n",
    "        result[value] += 1\n",
    "    else:\n",
    "        result[value] = 1"
   ]
  },
  {
   "cell_type": "code",
   "execution_count": 8,
   "metadata": {
    "collapsed": true
   },
   "outputs": [],
   "source": [
    "def get_elem_tags(elem):\n",
    "    result = {}\n",
    "    for tag_ in elem.iter(\"tag\"):\n",
    "        result[tag_.attrib[\"k\"]] = tag_.attrib[\"v\"]\n",
    "    return result"
   ]
  },
  {
   "cell_type": "code",
   "execution_count": 9,
   "metadata": {
    "collapsed": true
   },
   "outputs": [],
   "source": [
    "def get_stats_with_tag_key(filename,tag,key):\n",
    "    result = {}\n",
    "    for event, elem in ET.iterparse(filename, events=(\"start\",)):\n",
    "        if elem.tag == tag:\n",
    "            for tag_ in elem.iter(\"tag\"):\n",
    "                if(isTypeOf(tag_,key)):\n",
    "                    add_type(result,tag_.attrib['v'])\n",
    "    return result"
   ]
  },
  {
   "cell_type": "markdown",
   "metadata": {},
   "source": [
    "I am expecting religious places being in *node* tag type. Therefore, let's first look into nodes tagged with *religion*:"
   ]
  },
  {
   "cell_type": "code",
   "execution_count": 10,
   "metadata": {
    "collapsed": false
   },
   "outputs": [
    {
     "data": {
      "text/plain": [
       "{'christian': 15, 'jewish': 4, 'muslim': 148, 'pastafarian': 1}"
      ]
     },
     "execution_count": 10,
     "metadata": {},
     "output_type": "execute_result"
    }
   ],
   "source": [
    "get_stats_with_tag_key(DATA_FILE,\"node\",\"religion\")"
   ]
  },
  {
   "cell_type": "markdown",
   "metadata": {},
   "source": [
    "I am seeing that there are Christian, Jewish, Muslim and Pastafarian places listed. Where most of nodes belong to Muslims in an unsurprising way."
   ]
  },
  {
   "cell_type": "markdown",
   "metadata": {},
   "source": [
    "Let's also look into ways so that we don't miss anything of value. "
   ]
  },
  {
   "cell_type": "code",
   "execution_count": 11,
   "metadata": {
    "collapsed": false
   },
   "outputs": [
    {
     "data": {
      "text/plain": [
       "{'christian': 95, 'jewish': 9, 'muslim': 1923}"
      ]
     },
     "execution_count": 11,
     "metadata": {},
     "output_type": "execute_result"
    }
   ],
   "source": [
    "get_stats_with_tag_key(DATA_FILE,\"way\",\"religion\")"
   ]
  },
  {
   "cell_type": "markdown",
   "metadata": {},
   "source": [
    "Quite surprising to me, there are actually not only entries in **way-tag**, but also a lot more entries than **node-tag**. \n",
    "\n",
    "I think it will be plausible to merge results from both tag classes. "
   ]
  },
  {
   "cell_type": "markdown",
   "metadata": {},
   "source": [
    "# Problems Encountered"
   ]
  },
  {
   "cell_type": "markdown",
   "metadata": {},
   "source": [
    "* Not all nodes have amenity tag. Therefore we will stick to last word in their names which tells about their types. \n",
    "\n",
    "* Most places have a varying naming issues at the end of their names. For example, Mosques have **Camii, Camisi etc**, Sinagogs have **Sinagogu, Sinangog etc.** Therefore, I will be checking last word in place names for each religion, and try to audit their types into known few types.\n",
    "* There are Turkish characters in almost all names. I will be replacing this characters with their English counterpart to eliminate visual problems with character codes."
   ]
  },
  {
   "cell_type": "code",
   "execution_count": 12,
   "metadata": {
    "collapsed": true
   },
   "outputs": [],
   "source": [
    "turkishCharMap = {\n",
    "    \"ç\":\"c\",\n",
    "    \"Ç\":\"C\",\n",
    "    \"ğ\":\"g\",\n",
    "    \"Ğ\":\"G\",\n",
    "    \"ı\":\"i\",\n",
    "    \"İ\":\"I\",\n",
    "    \"ö\":\"o\",\n",
    "    \"Ö\":\"O\",\n",
    "    \"ş\":\"s\",\n",
    "    \"Ş\":\"S\",\n",
    "    \"ü\":\"u\",\n",
    "    \"Ü\":\"U\"\n",
    "}\n",
    "def serializeTurkishText(text):\n",
    "    text = text.encode(\"utf-8\")\n",
    "    for k,v in turkishCharMap.iteritems():\n",
    "        text = text.replace(k,v)\n",
    "    return text;"
   ]
  },
  {
   "cell_type": "code",
   "execution_count": 13,
   "metadata": {
    "collapsed": true
   },
   "outputs": [],
   "source": [
    "def get_last_word(name):\n",
    "    return serializeTurkishText(name.split(\" \")[-1]).lower()"
   ]
  },
  {
   "cell_type": "code",
   "execution_count": 14,
   "metadata": {
    "collapsed": true
   },
   "outputs": [],
   "source": [
    "def get_religious_place_types(filename,religion):\n",
    "    types = {}\n",
    "    place_list = {}\n",
    "    for event, elem in ET.iterparse(filename, events=(\"start\",)):\n",
    "        elem_tags = get_elem_tags(elem)\n",
    "        if(\"religion\" in elem_tags and elem_tags[\"religion\"]==religion):\n",
    "            name = \"\"\n",
    "            if \"name\" in elem_tags:\n",
    "                name = elem_tags[\"name\"]\n",
    "            type_ = get_last_word(name)\n",
    "            if type_ not in types:\n",
    "                types[type_] = 1\n",
    "                place_list[type_] = [elem_tags]\n",
    "            else:\n",
    "                types[type_] += 1\n",
    "                place_list[type_].append(elem_tags)\n",
    "    return (types, place_list)"
   ]
  },
  {
   "cell_type": "code",
   "execution_count": 15,
   "metadata": {
    "collapsed": true
   },
   "outputs": [],
   "source": [
    "def tabulate_dict(dict_):\n",
    "    sorted_list = sorted(list(dict_.items()), key=operator.itemgetter(1), reverse=True)\n",
    "    return pd.DataFrame([i[1] for i in sorted_list],index=[i[0] for i in sorted_list]).transpose()"
   ]
  },
  {
   "cell_type": "code",
   "execution_count": 16,
   "metadata": {
    "collapsed": false
   },
   "outputs": [
    {
     "data": {
      "text/html": [
       "<div>\n",
       "<style>\n",
       "    .dataframe thead tr:only-child th {\n",
       "        text-align: right;\n",
       "    }\n",
       "\n",
       "    .dataframe thead th {\n",
       "        text-align: left;\n",
       "    }\n",
       "\n",
       "    .dataframe tbody tr th {\n",
       "        vertical-align: top;\n",
       "    }\n",
       "</style>\n",
       "<table border=\"1\" class=\"dataframe\">\n",
       "  <thead>\n",
       "    <tr style=\"text-align: right;\">\n",
       "      <th></th>\n",
       "      <th></th>\n",
       "      <th>cami</th>\n",
       "      <th>camii</th>\n",
       "      <th>mescidi</th>\n",
       "      <th>mezarligi</th>\n",
       "      <th>mezarlik</th>\n",
       "      <th>camisi</th>\n",
       "      <th>cemevi</th>\n",
       "      <th>ada)</th>\n",
       "      <th>serifi</th>\n",
       "      <th>...</th>\n",
       "      <th>aksemsettin</th>\n",
       "      <th>muftulugu</th>\n",
       "      <th>camii)</th>\n",
       "      <th>(insaat)</th>\n",
       "      <th>camii3</th>\n",
       "      <th>kulliyesi</th>\n",
       "      <th>kursu</th>\n",
       "      <th>cmi</th>\n",
       "      <th>asamasinda)</th>\n",
       "      <th>hatun</th>\n",
       "    </tr>\n",
       "  </thead>\n",
       "  <tbody>\n",
       "    <tr>\n",
       "      <th>0</th>\n",
       "      <td>3124</td>\n",
       "      <td>740</td>\n",
       "      <td>267</td>\n",
       "      <td>19</td>\n",
       "      <td>18</td>\n",
       "      <td>9</td>\n",
       "      <td>8</td>\n",
       "      <td>8</td>\n",
       "      <td>6</td>\n",
       "      <td>3</td>\n",
       "      <td>...</td>\n",
       "      <td>1</td>\n",
       "      <td>1</td>\n",
       "      <td>1</td>\n",
       "      <td>1</td>\n",
       "      <td>1</td>\n",
       "      <td>1</td>\n",
       "      <td>1</td>\n",
       "      <td>1</td>\n",
       "      <td>1</td>\n",
       "      <td>1</td>\n",
       "    </tr>\n",
       "  </tbody>\n",
       "</table>\n",
       "<p>1 rows × 30 columns</p>\n",
       "</div>"
      ],
      "text/plain": [
       "         cami  camii  mescidi  mezarligi  mezarlik  camisi  cemevi  ada)  \\\n",
       "0  3124   740    267       19         18         9       8       8     6   \n",
       "\n",
       "   serifi  ...    aksemsettin  muftulugu  camii)  (insaat)  camii3  kulliyesi  \\\n",
       "0       3  ...              1          1       1         1       1          1   \n",
       "\n",
       "   kursu  cmi  asamasinda)  hatun  \n",
       "0      1    1            1      1  \n",
       "\n",
       "[1 rows x 30 columns]"
      ]
     },
     "execution_count": 16,
     "metadata": {},
     "output_type": "execute_result"
    }
   ],
   "source": [
    "muslim_types, muslim_place_list = get_religious_place_types(DATA_FILE,\"muslim\")\n",
    "tabulate_dict(muslim_types)"
   ]
  },
  {
   "cell_type": "markdown",
   "metadata": {},
   "source": [
    "Many missing places(3124) are in the list. These places seem to be having no names at all. Therefore, I feel an urge to look into this entries: "
   ]
  },
  {
   "cell_type": "code",
   "execution_count": 17,
   "metadata": {
    "collapsed": false
   },
   "outputs": [
    {
     "data": {
      "text/plain": [
       "array([{'religion': 'muslim'}, {'religion': 'muslim'},\n",
       "       {'religion': 'muslim'},\n",
       "       {'religion': 'muslim', 'amenity': 'place_of_worship'},\n",
       "       {'building': 'yes', 'religion': 'muslim', 'amenity': 'place_of_worship'},\n",
       "       {'building': 'yes', 'religion': 'muslim', 'amenity': 'place_of_worship'},\n",
       "       {'religion': 'muslim'},\n",
       "       {'building': 'yes', 'religion': 'muslim', 'amenity': 'place_of_worship'},\n",
       "       {'religion': 'muslim'}, {'religion': 'muslim'}], dtype=object)"
      ]
     },
     "execution_count": 17,
     "metadata": {},
     "output_type": "execute_result"
    }
   ],
   "source": [
    "np.random.choice(muslim_place_list[\"\"],10)"
   ]
  },
  {
   "cell_type": "code",
   "execution_count": 18,
   "metadata": {
    "collapsed": false
   },
   "outputs": [
    {
     "data": {
      "text/html": [
       "<div>\n",
       "<style>\n",
       "    .dataframe thead tr:only-child th {\n",
       "        text-align: right;\n",
       "    }\n",
       "\n",
       "    .dataframe thead th {\n",
       "        text-align: left;\n",
       "    }\n",
       "\n",
       "    .dataframe tbody tr th {\n",
       "        vertical-align: top;\n",
       "    }\n",
       "</style>\n",
       "<table border=\"1\" class=\"dataframe\">\n",
       "  <thead>\n",
       "    <tr style=\"text-align: right;\">\n",
       "      <th></th>\n",
       "      <th></th>\n",
       "      <th>cami</th>\n",
       "      <th>camii</th>\n",
       "      <th>mescidi</th>\n",
       "      <th>mezarligi</th>\n",
       "      <th>mezarlik</th>\n",
       "      <th>camisi</th>\n",
       "      <th>cemevi</th>\n",
       "      <th>ada)</th>\n",
       "      <th>serifi</th>\n",
       "      <th>...</th>\n",
       "      <th>aksemsettin</th>\n",
       "      <th>muftulugu</th>\n",
       "      <th>camii)</th>\n",
       "      <th>(insaat)</th>\n",
       "      <th>camii3</th>\n",
       "      <th>kulliyesi</th>\n",
       "      <th>kursu</th>\n",
       "      <th>cmi</th>\n",
       "      <th>asamasinda)</th>\n",
       "      <th>hatun</th>\n",
       "    </tr>\n",
       "  </thead>\n",
       "  <tbody>\n",
       "    <tr>\n",
       "      <th>0</th>\n",
       "      <td>3124</td>\n",
       "      <td>740</td>\n",
       "      <td>267</td>\n",
       "      <td>19</td>\n",
       "      <td>18</td>\n",
       "      <td>9</td>\n",
       "      <td>8</td>\n",
       "      <td>8</td>\n",
       "      <td>6</td>\n",
       "      <td>3</td>\n",
       "      <td>...</td>\n",
       "      <td>1</td>\n",
       "      <td>1</td>\n",
       "      <td>1</td>\n",
       "      <td>1</td>\n",
       "      <td>1</td>\n",
       "      <td>1</td>\n",
       "      <td>1</td>\n",
       "      <td>1</td>\n",
       "      <td>1</td>\n",
       "      <td>1</td>\n",
       "    </tr>\n",
       "  </tbody>\n",
       "</table>\n",
       "<p>1 rows × 30 columns</p>\n",
       "</div>"
      ],
      "text/plain": [
       "         cami  camii  mescidi  mezarligi  mezarlik  camisi  cemevi  ada)  \\\n",
       "0  3124   740    267       19         18         9       8       8     6   \n",
       "\n",
       "   serifi  ...    aksemsettin  muftulugu  camii)  (insaat)  camii3  kulliyesi  \\\n",
       "0       3  ...              1          1       1         1       1          1   \n",
       "\n",
       "   kursu  cmi  asamasinda)  hatun  \n",
       "0      1    1            1      1  \n",
       "\n",
       "[1 rows x 30 columns]"
      ]
     },
     "execution_count": 18,
     "metadata": {},
     "output_type": "execute_result"
    }
   ],
   "source": [
    "tabulate_dict(muslim_types)"
   ]
  },
  {
   "cell_type": "markdown",
   "metadata": {},
   "source": [
    "## New Problems\n",
    "* It seems some have names only in English. I will add these entries with their English names. \n",
    "* Apart from this, most of places seem to be holding no information but the religion tag itself. Since, we have no chance of making guesses about this I will simply ignore these entries. \n",
    "* Lastly, there are some entries with some variables that could help to extract their types."
   ]
  },
  {
   "cell_type": "code",
   "execution_count": 19,
   "metadata": {
    "collapsed": false
   },
   "outputs": [],
   "source": [
    "attributes_to_check = [\"amenity\",\"name:en\",\"building\",\"source\"]\n",
    "def getProminentAttributes(list_):\n",
    "    result = {}\n",
    "    for elem in list_:\n",
    "        for k,v in elem.iteritems():\n",
    "            if k in attributes_to_check:\n",
    "                if k not in result:\n",
    "                    result[k] = set(v)\n",
    "                else:\n",
    "                    result[k].add(v)\n",
    "    return result"
   ]
  },
  {
   "cell_type": "code",
   "execution_count": 20,
   "metadata": {
    "collapsed": false
   },
   "outputs": [
    {
     "data": {
      "text/html": [
       "<div>\n",
       "<style>\n",
       "    .dataframe thead tr:only-child th {\n",
       "        text-align: right;\n",
       "    }\n",
       "\n",
       "    .dataframe thead th {\n",
       "        text-align: left;\n",
       "    }\n",
       "\n",
       "    .dataframe tbody tr th {\n",
       "        vertical-align: top;\n",
       "    }\n",
       "</style>\n",
       "<table border=\"1\" class=\"dataframe\">\n",
       "  <thead>\n",
       "    <tr style=\"text-align: right;\">\n",
       "      <th></th>\n",
       "      <th>building</th>\n",
       "      <th>source</th>\n",
       "      <th>amenity</th>\n",
       "      <th>name:en</th>\n",
       "    </tr>\n",
       "  </thead>\n",
       "  <tbody>\n",
       "    <tr>\n",
       "      <th>0</th>\n",
       "      <td>y</td>\n",
       "      <td>a</td>\n",
       "      <td>a</td>\n",
       "      <td>a</td>\n",
       "    </tr>\n",
       "    <tr>\n",
       "      <th>1</th>\n",
       "      <td>mosque</td>\n",
       "      <td>bing</td>\n",
       "      <td>place_of_worship</td>\n",
       "      <td></td>\n",
       "    </tr>\n",
       "    <tr>\n",
       "      <th>2</th>\n",
       "      <td>s</td>\n",
       "      <td>h</td>\n",
       "      <td>c</td>\n",
       "      <td>C</td>\n",
       "    </tr>\n",
       "    <tr>\n",
       "      <th>3</th>\n",
       "      <td>e</td>\n",
       "      <td>local_knowledge; Bing</td>\n",
       "      <td>e</td>\n",
       "      <td>e</td>\n",
       "    </tr>\n",
       "    <tr>\n",
       "      <th>4</th>\n",
       "      <td>yes</td>\n",
       "      <td>Yahoo</td>\n",
       "      <td>f</td>\n",
       "      <td>Murat Reia Camii</td>\n",
       "    </tr>\n",
       "    <tr>\n",
       "      <th>5</th>\n",
       "      <td>None</td>\n",
       "      <td>o</td>\n",
       "      <td>i</td>\n",
       "      <td>i</td>\n",
       "    </tr>\n",
       "    <tr>\n",
       "      <th>6</th>\n",
       "      <td>None</td>\n",
       "      <td>Y</td>\n",
       "      <td>h</td>\n",
       "      <td>m</td>\n",
       "    </tr>\n",
       "    <tr>\n",
       "      <th>7</th>\n",
       "      <td>None</td>\n",
       "      <td>Bing</td>\n",
       "      <td>l</td>\n",
       "      <td>M</td>\n",
       "    </tr>\n",
       "    <tr>\n",
       "      <th>8</th>\n",
       "      <td>None</td>\n",
       "      <td>None</td>\n",
       "      <td>o</td>\n",
       "      <td>s</td>\n",
       "    </tr>\n",
       "    <tr>\n",
       "      <th>9</th>\n",
       "      <td>None</td>\n",
       "      <td>None</td>\n",
       "      <td>p</td>\n",
       "      <td>r</td>\n",
       "    </tr>\n",
       "    <tr>\n",
       "      <th>10</th>\n",
       "      <td>None</td>\n",
       "      <td>None</td>\n",
       "      <td>s</td>\n",
       "      <td>u</td>\n",
       "    </tr>\n",
       "    <tr>\n",
       "      <th>11</th>\n",
       "      <td>None</td>\n",
       "      <td>None</td>\n",
       "      <td>r</td>\n",
       "      <td>t</td>\n",
       "    </tr>\n",
       "    <tr>\n",
       "      <th>12</th>\n",
       "      <td>None</td>\n",
       "      <td>None</td>\n",
       "      <td>w</td>\n",
       "      <td>R</td>\n",
       "    </tr>\n",
       "    <tr>\n",
       "      <th>13</th>\n",
       "      <td>None</td>\n",
       "      <td>None</td>\n",
       "      <td>grave_yard</td>\n",
       "      <td>None</td>\n",
       "    </tr>\n",
       "    <tr>\n",
       "      <th>14</th>\n",
       "      <td>None</td>\n",
       "      <td>None</td>\n",
       "      <td>_</td>\n",
       "      <td>None</td>\n",
       "    </tr>\n",
       "  </tbody>\n",
       "</table>\n",
       "</div>"
      ],
      "text/plain": [
       "   building                 source           amenity           name:en\n",
       "0         y                      a                 a                 a\n",
       "1    mosque                   bing  place_of_worship                  \n",
       "2         s                      h                 c                 C\n",
       "3         e  local_knowledge; Bing                 e                 e\n",
       "4       yes                  Yahoo                 f  Murat Reia Camii\n",
       "5      None                      o                 i                 i\n",
       "6      None                      Y                 h                 m\n",
       "7      None                   Bing                 l                 M\n",
       "8      None                   None                 o                 s\n",
       "9      None                   None                 p                 r\n",
       "10     None                   None                 s                 u\n",
       "11     None                   None                 r                 t\n",
       "12     None                   None                 w                 R\n",
       "13     None                   None        grave_yard              None\n",
       "14     None                   None                 _              None"
      ]
     },
     "execution_count": 20,
     "metadata": {},
     "output_type": "execute_result"
    }
   ],
   "source": [
    "tabulate_dict(getProminentAttributes(muslim_place_list[\"\"]))"
   ]
  },
  {
   "cell_type": "markdown",
   "metadata": {},
   "source": [
    "It seems apart from \"name:en\" attribute none of above elements in sets provide enough info to extract type of the place. Therefore we will ignore the rest."
   ]
  },
  {
   "cell_type": "markdown",
   "metadata": {},
   "source": [
    "Now let's also look into other types that dont make much sense:"
   ]
  },
  {
   "cell_type": "code",
   "execution_count": 21,
   "metadata": {
    "collapsed": false
   },
   "outputs": [
    {
     "data": {
      "text/plain": [
       "[{'amenity': 'place_of_worship',\n",
       "  'building': 'yes',\n",
       "  'name': u'Yeni Zeynebiye Camii (\\u0130n\\u015faat)',\n",
       "  'religion': 'muslim'}]"
      ]
     },
     "execution_count": 21,
     "metadata": {},
     "output_type": "execute_result"
    }
   ],
   "source": [
    "muslim_place_list[\"(insaat)\"]"
   ]
  },
  {
   "cell_type": "markdown",
   "metadata": {},
   "source": [
    "This is a mosque with a note stating it's in reconstruction. Therefore, let's remove descriptions in paranthesis, and try again to see if things improve."
   ]
  },
  {
   "cell_type": "code",
   "execution_count": 22,
   "metadata": {
    "collapsed": true
   },
   "outputs": [],
   "source": [
    "import re\n",
    "def remove_paranthesis(text):\n",
    "    return re.sub(r'\\(.*\\)', '', text).strip()"
   ]
  },
  {
   "cell_type": "code",
   "execution_count": 23,
   "metadata": {
    "collapsed": true
   },
   "outputs": [],
   "source": [
    "#Override the function to handle paranthesis:\n",
    "def get_last_word(name):\n",
    "    return serializeTurkishText(remove_paranthesis(name).split(\" \")[-1]).lower()"
   ]
  },
  {
   "cell_type": "code",
   "execution_count": 24,
   "metadata": {
    "collapsed": false
   },
   "outputs": [
    {
     "data": {
      "text/html": [
       "<div>\n",
       "<style>\n",
       "    .dataframe thead tr:only-child th {\n",
       "        text-align: right;\n",
       "    }\n",
       "\n",
       "    .dataframe thead th {\n",
       "        text-align: left;\n",
       "    }\n",
       "\n",
       "    .dataframe tbody tr th {\n",
       "        vertical-align: top;\n",
       "    }\n",
       "</style>\n",
       "<table border=\"1\" class=\"dataframe\">\n",
       "  <thead>\n",
       "    <tr style=\"text-align: right;\">\n",
       "      <th></th>\n",
       "      <th></th>\n",
       "      <th>cami</th>\n",
       "      <th>camii</th>\n",
       "      <th>mezarligi</th>\n",
       "      <th>mescidi</th>\n",
       "      <th>mezarlik</th>\n",
       "      <th>camisi</th>\n",
       "      <th>cemevi</th>\n",
       "      <th>serifi</th>\n",
       "      <th>mescit</th>\n",
       "      <th>...</th>\n",
       "      <th>germe</th>\n",
       "      <th>tekkesi</th>\n",
       "      <th>aksemsettin</th>\n",
       "      <th>muftulugu</th>\n",
       "      <th>hamami</th>\n",
       "      <th>camii3</th>\n",
       "      <th>kulliyesi</th>\n",
       "      <th>kursu</th>\n",
       "      <th>cmi</th>\n",
       "      <th>hatun</th>\n",
       "    </tr>\n",
       "  </thead>\n",
       "  <tbody>\n",
       "    <tr>\n",
       "      <th>0</th>\n",
       "      <td>3124</td>\n",
       "      <td>741</td>\n",
       "      <td>269</td>\n",
       "      <td>24</td>\n",
       "      <td>19</td>\n",
       "      <td>9</td>\n",
       "      <td>8</td>\n",
       "      <td>8</td>\n",
       "      <td>3</td>\n",
       "      <td>3</td>\n",
       "      <td>...</td>\n",
       "      <td>1</td>\n",
       "      <td>1</td>\n",
       "      <td>1</td>\n",
       "      <td>1</td>\n",
       "      <td>1</td>\n",
       "      <td>1</td>\n",
       "      <td>1</td>\n",
       "      <td>1</td>\n",
       "      <td>1</td>\n",
       "      <td>1</td>\n",
       "    </tr>\n",
       "  </tbody>\n",
       "</table>\n",
       "<p>1 rows × 26 columns</p>\n",
       "</div>"
      ],
      "text/plain": [
       "         cami  camii  mezarligi  mescidi  mezarlik  camisi  cemevi  serifi  \\\n",
       "0  3124   741    269         24       19         9       8       8       3   \n",
       "\n",
       "   mescit  ...    germe  tekkesi  aksemsettin  muftulugu  hamami  camii3  \\\n",
       "0       3  ...        1        1            1          1       1       1   \n",
       "\n",
       "   kulliyesi  kursu  cmi  hatun  \n",
       "0          1      1    1      1  \n",
       "\n",
       "[1 rows x 26 columns]"
      ]
     },
     "execution_count": 24,
     "metadata": {},
     "output_type": "execute_result"
    }
   ],
   "source": [
    "muslim_types, muslim_place_list = get_religious_place_types(DATA_FILE,\"muslim\")\n",
    "tabulate_dict(muslim_types)"
   ]
  },
  {
   "cell_type": "markdown",
   "metadata": {},
   "source": [
    "Types listed above provide enough insight into types of places therefore we will now define mappings for types and typo fixes.\n",
    "\n",
    "I decided to set below types:\n",
    "\n",
    "* Mosque\n",
    "* Islamic School\n",
    "* Graveyard\n",
    "* Other"
   ]
  },
  {
   "cell_type": "code",
   "execution_count": 25,
   "metadata": {
    "collapsed": true
   },
   "outputs": [],
   "source": [
    "mapping = {\n",
    "    'Graveyard': ['mezarligi', 'mezarlik'],\n",
    "    'Islamic School': ['kursu', 'tekkesi', 'medresesi', 'kulliyesi'],\n",
    "    'Mosque': ['camil', 'camii','camisi','namazgah','serifi','mescit','cemevi','camii3','mescid','mescidi','cmi','cami'],\n",
    "    'Other': ['pasa','germe','aksemsettin','muftulugu','hamami','turbesi','hatun']\n",
    "}\n",
    "typo_fixes = {\n",
    "    \"muslim\":{\n",
    "        'camii': \"cami\",\n",
    "        'camii3': \"cami\",\n",
    "        'camil': \"cami\",\n",
    "        'camisi': \"cami\",\n",
    "        'cmi': \"cami\"\n",
    "    }\n",
    "}"
   ]
  },
  {
   "cell_type": "code",
   "execution_count": 26,
   "metadata": {
    "collapsed": false
   },
   "outputs": [
    {
     "data": {
      "text/html": [
       "<div>\n",
       "<style>\n",
       "    .dataframe thead tr:only-child th {\n",
       "        text-align: right;\n",
       "    }\n",
       "\n",
       "    .dataframe thead th {\n",
       "        text-align: left;\n",
       "    }\n",
       "\n",
       "    .dataframe tbody tr th {\n",
       "        vertical-align: top;\n",
       "    }\n",
       "</style>\n",
       "<table border=\"1\" class=\"dataframe\">\n",
       "  <thead>\n",
       "    <tr style=\"text-align: right;\">\n",
       "      <th></th>\n",
       "      <th></th>\n",
       "      <th>kilisesi</th>\n",
       "      <th>mezarligi</th>\n",
       "      <th>manastiri</th>\n",
       "      <th>church</th>\n",
       "      <th>ayazmasi</th>\n",
       "      <th>kilise</th>\n",
       "      <th>nikola</th>\n",
       "      <th>phokas</th>\n",
       "      <th>katedrali</th>\n",
       "      <th>vakfi</th>\n",
       "      <th>patrikhanesi</th>\n",
       "      <th>mongols</th>\n",
       "      <th>metropolitligi</th>\n",
       "      <th>kabristani</th>\n",
       "      <th>Стефан“</th>\n",
       "      <th>kilesi</th>\n",
       "      <th>kiliesi</th>\n",
       "    </tr>\n",
       "  </thead>\n",
       "  <tbody>\n",
       "    <tr>\n",
       "      <th>0</th>\n",
       "      <td>127</td>\n",
       "      <td>62</td>\n",
       "      <td>8</td>\n",
       "      <td>6</td>\n",
       "      <td>4</td>\n",
       "      <td>3</td>\n",
       "      <td>2</td>\n",
       "      <td>1</td>\n",
       "      <td>1</td>\n",
       "      <td>1</td>\n",
       "      <td>1</td>\n",
       "      <td>1</td>\n",
       "      <td>1</td>\n",
       "      <td>1</td>\n",
       "      <td>1</td>\n",
       "      <td>1</td>\n",
       "      <td>1</td>\n",
       "      <td>1</td>\n",
       "    </tr>\n",
       "  </tbody>\n",
       "</table>\n",
       "</div>"
      ],
      "text/plain": [
       "        kilisesi  mezarligi  manastiri  church  ayazmasi  kilise  nikola  \\\n",
       "0  127        62          8          6       4         3       2       1   \n",
       "\n",
       "   phokas  katedrali  vakfi  patrikhanesi  mongols  metropolitligi  \\\n",
       "0       1          1      1             1        1               1   \n",
       "\n",
       "   kabristani  Стефан“  kilesi  kiliesi  \n",
       "0           1        1       1        1  "
      ]
     },
     "execution_count": 26,
     "metadata": {},
     "output_type": "execute_result"
    }
   ],
   "source": [
    "christian_types, christian_place_list = get_religious_place_types(DATA_FILE,\"christian\")\n",
    "tabulate_dict(christian_types)"
   ]
  },
  {
   "cell_type": "markdown",
   "metadata": {},
   "source": [
    "Place types seem to be alright. But lets dive into places with no names: "
   ]
  },
  {
   "cell_type": "code",
   "execution_count": 27,
   "metadata": {
    "collapsed": false
   },
   "outputs": [
    {
     "data": {
      "text/html": [
       "<div>\n",
       "<style>\n",
       "    .dataframe thead tr:only-child th {\n",
       "        text-align: right;\n",
       "    }\n",
       "\n",
       "    .dataframe thead th {\n",
       "        text-align: left;\n",
       "    }\n",
       "\n",
       "    .dataframe tbody tr th {\n",
       "        vertical-align: top;\n",
       "    }\n",
       "</style>\n",
       "<table border=\"1\" class=\"dataframe\">\n",
       "  <thead>\n",
       "    <tr style=\"text-align: right;\">\n",
       "      <th></th>\n",
       "      <th>0</th>\n",
       "      <th>1</th>\n",
       "      <th>2</th>\n",
       "      <th>3</th>\n",
       "      <th>4</th>\n",
       "      <th>5</th>\n",
       "      <th>6</th>\n",
       "      <th>7</th>\n",
       "      <th>8</th>\n",
       "      <th>9</th>\n",
       "      <th>10</th>\n",
       "      <th>11</th>\n",
       "      <th>12</th>\n",
       "      <th>13</th>\n",
       "    </tr>\n",
       "  </thead>\n",
       "  <tbody>\n",
       "    <tr>\n",
       "      <th>building</th>\n",
       "      <td>y</td>\n",
       "      <td>s</td>\n",
       "      <td>e</td>\n",
       "      <td>yes</td>\n",
       "      <td>None</td>\n",
       "      <td>None</td>\n",
       "      <td>None</td>\n",
       "      <td>None</td>\n",
       "      <td>None</td>\n",
       "      <td>None</td>\n",
       "      <td>None</td>\n",
       "      <td>None</td>\n",
       "      <td>None</td>\n",
       "      <td>None</td>\n",
       "    </tr>\n",
       "    <tr>\n",
       "      <th>amenity</th>\n",
       "      <td>a</td>\n",
       "      <td>place_of_worship</td>\n",
       "      <td>c</td>\n",
       "      <td>e</td>\n",
       "      <td>f</td>\n",
       "      <td>i</td>\n",
       "      <td>h</td>\n",
       "      <td>l</td>\n",
       "      <td>o</td>\n",
       "      <td>p</td>\n",
       "      <td>s</td>\n",
       "      <td>r</td>\n",
       "      <td>w</td>\n",
       "      <td>_</td>\n",
       "    </tr>\n",
       "  </tbody>\n",
       "</table>\n",
       "</div>"
      ],
      "text/plain": [
       "         0                 1  2    3     4     5     6     7     8     9   \\\n",
       "building  y                 s  e  yes  None  None  None  None  None  None   \n",
       "amenity   a  place_of_worship  c    e     f     i     h     l     o     p   \n",
       "\n",
       "            10    11    12    13  \n",
       "building  None  None  None  None  \n",
       "amenity      s     r     w     _  "
      ]
     },
     "execution_count": 27,
     "metadata": {},
     "output_type": "execute_result"
    }
   ],
   "source": [
    "tabulate_dict(getProminentAttributes(christian_place_list[\"\"])).transpose()"
   ]
  },
  {
   "cell_type": "markdown",
   "metadata": {},
   "source": [
    "It's seems places with no names are no more that entries with almost no info. Therefore, I will be ignoring these ones also. "
   ]
  },
  {
   "cell_type": "markdown",
   "metadata": {},
   "source": [
    "Let's also add type mapping and typo fixes mapping. Our types will be as following:\n",
    "\n",
    "* Church\n",
    "* Graveyard\n",
    "* Monastery\n",
    "* Other"
   ]
  },
  {
   "cell_type": "code",
   "execution_count": 28,
   "metadata": {
    "collapsed": true
   },
   "outputs": [],
   "source": [
    "mapping['Church'] = ['kilesi', 'katedrali', 'kilise', 'kilisesi', 'church', 'kiliesi']\n",
    "mapping['Monastery'] = ['manastiri']\n",
    "mapping['Graveyard'] += ['kabristani', 'mezarligi']\n",
    "mapping['Other'] += ['nikola','phokas','ayazmasi','metropolitligi','patrikhanesi','mongols','Стефан“','vakfi']\n",
    "\n",
    "typo_fixes[\"christian\"] = {\n",
    "    'kilesi': \"Kilisesi\",\n",
    "    'kiliesi': \"Kilisesi\"\n",
    "}"
   ]
  },
  {
   "cell_type": "code",
   "execution_count": 29,
   "metadata": {
    "collapsed": false
   },
   "outputs": [
    {
     "data": {
      "text/html": [
       "<div>\n",
       "<style>\n",
       "    .dataframe thead tr:only-child th {\n",
       "        text-align: right;\n",
       "    }\n",
       "\n",
       "    .dataframe thead th {\n",
       "        text-align: left;\n",
       "    }\n",
       "\n",
       "    .dataframe tbody tr th {\n",
       "        vertical-align: top;\n",
       "    }\n",
       "</style>\n",
       "<table border=\"1\" class=\"dataframe\">\n",
       "  <thead>\n",
       "    <tr style=\"text-align: right;\">\n",
       "      <th></th>\n",
       "      <th></th>\n",
       "      <th>sinagogu</th>\n",
       "      <th>mezarligi</th>\n",
       "      <th>sinagonu</th>\n",
       "      <th>sinagog</th>\n",
       "      <th>neve-shalom</th>\n",
       "    </tr>\n",
       "  </thead>\n",
       "  <tbody>\n",
       "    <tr>\n",
       "      <th>0</th>\n",
       "      <td>15</td>\n",
       "      <td>6</td>\n",
       "      <td>3</td>\n",
       "      <td>1</td>\n",
       "      <td>1</td>\n",
       "      <td>1</td>\n",
       "    </tr>\n",
       "  </tbody>\n",
       "</table>\n",
       "</div>"
      ],
      "text/plain": [
       "       sinagogu  mezarligi  sinagonu  sinagog  neve-shalom\n",
       "0  15         6          3         1        1            1"
      ]
     },
     "execution_count": 29,
     "metadata": {},
     "output_type": "execute_result"
    }
   ],
   "source": [
    "jewish_types, jewish_place_list = get_religious_place_types(DATA_FILE,\"jewish\")\n",
    "tabulate_dict(jewish_types)"
   ]
  },
  {
   "cell_type": "code",
   "execution_count": 30,
   "metadata": {
    "collapsed": false
   },
   "outputs": [
    {
     "data": {
      "text/html": [
       "<div>\n",
       "<style>\n",
       "    .dataframe thead tr:only-child th {\n",
       "        text-align: right;\n",
       "    }\n",
       "\n",
       "    .dataframe thead th {\n",
       "        text-align: left;\n",
       "    }\n",
       "\n",
       "    .dataframe tbody tr th {\n",
       "        vertical-align: top;\n",
       "    }\n",
       "</style>\n",
       "<table border=\"1\" class=\"dataframe\">\n",
       "  <thead>\n",
       "    <tr style=\"text-align: right;\">\n",
       "      <th></th>\n",
       "      <th>0</th>\n",
       "      <th>1</th>\n",
       "      <th>2</th>\n",
       "      <th>3</th>\n",
       "      <th>4</th>\n",
       "      <th>5</th>\n",
       "      <th>6</th>\n",
       "      <th>7</th>\n",
       "      <th>8</th>\n",
       "      <th>9</th>\n",
       "      <th>10</th>\n",
       "      <th>11</th>\n",
       "      <th>12</th>\n",
       "    </tr>\n",
       "  </thead>\n",
       "  <tbody>\n",
       "    <tr>\n",
       "      <th>building</th>\n",
       "      <td>y</td>\n",
       "      <td>s</td>\n",
       "      <td>e</td>\n",
       "      <td>None</td>\n",
       "      <td>None</td>\n",
       "      <td>None</td>\n",
       "      <td>None</td>\n",
       "      <td>None</td>\n",
       "      <td>None</td>\n",
       "      <td>None</td>\n",
       "      <td>None</td>\n",
       "      <td>None</td>\n",
       "      <td>None</td>\n",
       "    </tr>\n",
       "    <tr>\n",
       "      <th>amenity</th>\n",
       "      <td>a</td>\n",
       "      <td>c</td>\n",
       "      <td>e</td>\n",
       "      <td>f</td>\n",
       "      <td>i</td>\n",
       "      <td>h</td>\n",
       "      <td>l</td>\n",
       "      <td>o</td>\n",
       "      <td>p</td>\n",
       "      <td>s</td>\n",
       "      <td>r</td>\n",
       "      <td>w</td>\n",
       "      <td>_</td>\n",
       "    </tr>\n",
       "  </tbody>\n",
       "</table>\n",
       "</div>"
      ],
      "text/plain": [
       "         0  1  2     3     4     5     6     7     8     9     10    11    12\n",
       "building  y  s  e  None  None  None  None  None  None  None  None  None  None\n",
       "amenity   a  c  e     f     i     h     l     o     p     s     r     w     _"
      ]
     },
     "execution_count": 30,
     "metadata": {},
     "output_type": "execute_result"
    }
   ],
   "source": [
    "tabulate_dict(getProminentAttributes(jewish_place_list[\"\"])).transpose()"
   ]
  },
  {
   "cell_type": "markdown",
   "metadata": {},
   "source": [
    "There seems to be nothing to extract from places with no name, so we will ignore them."
   ]
  },
  {
   "cell_type": "markdown",
   "metadata": {},
   "source": [
    "Let's add our type and typo fixes mappings. List of types is provided below:\n",
    "\n",
    "* Synagogue\n",
    "* Graveyard\n"
   ]
  },
  {
   "cell_type": "code",
   "execution_count": 31,
   "metadata": {
    "collapsed": true
   },
   "outputs": [],
   "source": [
    "mapping['Synagogue'] = ['neve-shalom', 'sinagogu', 'sinagonu', 'sinagog']\n",
    "typo_fixes[\"jewish\"] = {\n",
    "    'sinagonu': \"Sinagogu\"\n",
    "}"
   ]
  },
  {
   "cell_type": "code",
   "execution_count": 32,
   "metadata": {
    "collapsed": false
   },
   "outputs": [
    {
     "data": {
      "text/plain": [
       "{'': 1, 'tapinagi': 1}"
      ]
     },
     "execution_count": 32,
     "metadata": {},
     "output_type": "execute_result"
    }
   ],
   "source": [
    "pastafarian_types, pastafarian_place_list = get_religious_place_types(DATA_FILE,\"pastafarian\")\n",
    "pastafarian_types"
   ]
  },
  {
   "cell_type": "code",
   "execution_count": 33,
   "metadata": {
    "collapsed": false
   },
   "outputs": [
    {
     "data": {
      "text/plain": [
       "[{'religion': 'pastafarian'}]"
      ]
     },
     "execution_count": 33,
     "metadata": {},
     "output_type": "execute_result"
    }
   ],
   "source": [
    "pastafarian_place_list[\"\"]"
   ]
  },
  {
   "cell_type": "markdown",
   "metadata": {},
   "source": [
    "An empty place. We will ignore this.\n",
    "* I will tag the only **Tapınak** as temple. "
   ]
  },
  {
   "cell_type": "code",
   "execution_count": 34,
   "metadata": {
    "collapsed": false
   },
   "outputs": [],
   "source": [
    "mapping[\"Temple\"] = [\"tapinagi\"]\n",
    "typo_fixes[\"pastafarian\"] = {}"
   ]
  },
  {
   "cell_type": "markdown",
   "metadata": {},
   "source": [
    "# Data Extraction"
   ]
  },
  {
   "cell_type": "markdown",
   "metadata": {},
   "source": [
    "Since we don't have any multiple valued attribute in religious places list we will have a single SQL table."
   ]
  },
  {
   "cell_type": "code",
   "execution_count": 35,
   "metadata": {
    "collapsed": false
   },
   "outputs": [],
   "source": [
    "import sqlite3\n",
    "sqlite_file = 'istanbul_osm.sqlite'\n",
    "table = \"religious_places\"\n",
    "columns = [\"id\",\"name\",\"lat\",\"lon\",\"religion\",\"type\"]\n",
    "\n",
    "conn = sqlite3.connect(sqlite_file)\n",
    "c = conn.cursor()"
   ]
  },
  {
   "cell_type": "markdown",
   "metadata": {},
   "source": [
    "**Create table, and drop if table already exists:**"
   ]
  },
  {
   "cell_type": "code",
   "execution_count": 36,
   "metadata": {
    "collapsed": false
   },
   "outputs": [
    {
     "data": {
      "text/plain": [
       "<sqlite3.Cursor at 0x5d314ab0>"
      ]
     },
     "execution_count": 36,
     "metadata": {},
     "output_type": "execute_result"
    }
   ],
   "source": [
    "c.execute('DROP TABLE {tn}'\\\n",
    "        .format(tn=table))\n",
    "c.execute('CREATE TABLE {tn} ({columns})'\\\n",
    "        .format(tn=table, columns=\",\".join(columns)))"
   ]
  },
  {
   "cell_type": "code",
   "execution_count": 37,
   "metadata": {
    "collapsed": true
   },
   "outputs": [],
   "source": [
    "religions = ['christian', 'jewish', 'muslim', 'pastafarian']"
   ]
  },
  {
   "cell_type": "code",
   "execution_count": 38,
   "metadata": {
    "collapsed": true
   },
   "outputs": [],
   "source": [
    "def get_name(elem_tags):\n",
    "    if \"name\" in elem_tags:\n",
    "        return elem_tags[\"name\"]\n",
    "    elif \"name:en\" in elem_tags:\n",
    "        return elem_tags[\"name:en\"]\n",
    "    else:\n",
    "        return \"\""
   ]
  },
  {
   "cell_type": "code",
   "execution_count": 39,
   "metadata": {
    "collapsed": false
   },
   "outputs": [],
   "source": [
    "def get_fixed_name(elem_tags):\n",
    "    name = get_name(elem_tags)\n",
    "    name_words = name.split(\" \")[0:-1]\n",
    "    type_identifier = get_last_word(name)\n",
    "    if type_identifier in typo_fixes[elem_tags[\"religion\"]]:\n",
    "        name_words.append(typo_fixes[elem_tags[\"religion\"]][type_identifier])\n",
    "        return \" \".join(name_words)\n",
    "    return name"
   ]
  },
  {
   "cell_type": "code",
   "execution_count": 40,
   "metadata": {
    "collapsed": true
   },
   "outputs": [],
   "source": [
    "def get_type(elem_tags,name):\n",
    "    type_identifier = get_last_word(name)\n",
    "    religion = elem_tags[\"religion\"]\n",
    "    for k,v in mapping.iteritems():\n",
    "        if type_identifier in mapping[k]:\n",
    "            return k\n",
    "    else:\n",
    "        pprint.pprint([\"unknown type\",elem_tags,type_identifier])\n",
    "        return \"Unknown\" "
   ]
  },
  {
   "cell_type": "code",
   "execution_count": 41,
   "metadata": {
    "collapsed": true
   },
   "outputs": [],
   "source": [
    "def get_religious_places(filename):\n",
    "    places = []\n",
    "    for event, elem in ET.iterparse(filename, events=(\"start\",)):\n",
    "        elem_tags = get_elem_tags(elem)\n",
    "        if \"religion\" in elem_tags and elem_tags[\"religion\"] in religions:\n",
    "            name = get_fixed_name(elem_tags)\n",
    "            if(len(name)>0):\n",
    "                type_ = get_type(elem_tags,name)\n",
    "                elem_tags[\"name\"] = name\n",
    "                elem_tags[\"type\"] = type_\n",
    "                for column in columns:\n",
    "                    if column in elem.attrib:\n",
    "                        elem_tags[column] = elem.attrib[column]\n",
    "                places.append(elem_tags)\n",
    "    return places"
   ]
  },
  {
   "cell_type": "markdown",
   "metadata": {},
   "source": [
    "**Below code will extract all places for all religions:**"
   ]
  },
  {
   "cell_type": "code",
   "execution_count": 42,
   "metadata": {
    "collapsed": false
   },
   "outputs": [],
   "source": [
    "religious_places = get_religious_places(DATA_FILE)"
   ]
  },
  {
   "cell_type": "code",
   "execution_count": 43,
   "metadata": {
    "collapsed": false
   },
   "outputs": [
    {
     "data": {
      "text/html": [
       "<div>\n",
       "<style>\n",
       "    .dataframe thead tr:only-child th {\n",
       "        text-align: right;\n",
       "    }\n",
       "\n",
       "    .dataframe thead th {\n",
       "        text-align: left;\n",
       "    }\n",
       "\n",
       "    .dataframe tbody tr th {\n",
       "        vertical-align: top;\n",
       "    }\n",
       "</style>\n",
       "<table border=\"1\" class=\"dataframe\">\n",
       "  <thead>\n",
       "    <tr style=\"text-align: right;\">\n",
       "      <th></th>\n",
       "      <th>id</th>\n",
       "      <th>name</th>\n",
       "      <th>lat</th>\n",
       "      <th>lon</th>\n",
       "      <th>religion</th>\n",
       "      <th>type</th>\n",
       "    </tr>\n",
       "  </thead>\n",
       "  <tbody>\n",
       "    <tr>\n",
       "      <th>0</th>\n",
       "      <td>269497288</td>\n",
       "      <td>Barbaros Hayrettin Türbesi</td>\n",
       "      <td>41.0419227</td>\n",
       "      <td>29.0068359</td>\n",
       "      <td>muslim</td>\n",
       "      <td>Other</td>\n",
       "    </tr>\n",
       "    <tr>\n",
       "      <th>1</th>\n",
       "      <td>269706604</td>\n",
       "      <td>Ertuğrul Tekke cami</td>\n",
       "      <td>41.0456489</td>\n",
       "      <td>29.0085216</td>\n",
       "      <td>muslim</td>\n",
       "      <td>Mosque</td>\n",
       "    </tr>\n",
       "    <tr>\n",
       "      <th>2</th>\n",
       "      <td>269707397</td>\n",
       "      <td>Beşiktaş Panayia Rum Ortodoks Kilisesi Vakfı</td>\n",
       "      <td>41.0436679</td>\n",
       "      <td>29.0050595</td>\n",
       "      <td>christian</td>\n",
       "      <td>Other</td>\n",
       "    </tr>\n",
       "    <tr>\n",
       "      <th>3</th>\n",
       "      <td>278092559</td>\n",
       "      <td>Murat Reis cami</td>\n",
       "      <td>41.0184464</td>\n",
       "      <td>29.0275916</td>\n",
       "      <td>muslim</td>\n",
       "      <td>Mosque</td>\n",
       "    </tr>\n",
       "    <tr>\n",
       "      <th>4</th>\n",
       "      <td>278102132</td>\n",
       "      <td>Murat Reia cami</td>\n",
       "      <td>41.0231166</td>\n",
       "      <td>29.0237092</td>\n",
       "      <td>muslim</td>\n",
       "      <td>Mosque</td>\n",
       "    </tr>\n",
       "  </tbody>\n",
       "</table>\n",
       "</div>"
      ],
      "text/plain": [
       "          id                                          name         lat  \\\n",
       "0  269497288                    Barbaros Hayrettin Türbesi  41.0419227   \n",
       "1  269706604                           Ertuğrul Tekke cami  41.0456489   \n",
       "2  269707397  Beşiktaş Panayia Rum Ortodoks Kilisesi Vakfı  41.0436679   \n",
       "3  278092559                               Murat Reis cami  41.0184464   \n",
       "4  278102132                               Murat Reia cami  41.0231166   \n",
       "\n",
       "          lon   religion    type  \n",
       "0  29.0068359     muslim   Other  \n",
       "1  29.0085216     muslim  Mosque  \n",
       "2  29.0050595  christian   Other  \n",
       "3  29.0275916     muslim  Mosque  \n",
       "4  29.0237092     muslim  Mosque  "
      ]
     },
     "execution_count": 43,
     "metadata": {},
     "output_type": "execute_result"
    }
   ],
   "source": [
    "pd.DataFrame(religious_places,columns=columns).head()"
   ]
  },
  {
   "cell_type": "markdown",
   "metadata": {},
   "source": [
    "**Let's check if any of places comes with missing fields:**"
   ]
  },
  {
   "cell_type": "code",
   "execution_count": 44,
   "metadata": {
    "collapsed": true
   },
   "outputs": [],
   "source": [
    "def check_data_integrity(places):\n",
    "    missing = []\n",
    "    for place in places:\n",
    "        for column in columns:\n",
    "            if column not in place:\n",
    "                missing.append(place)\n",
    "                break\n",
    "    return missing"
   ]
  },
  {
   "cell_type": "code",
   "execution_count": 45,
   "metadata": {
    "collapsed": false
   },
   "outputs": [],
   "source": [
    "missing = check_data_integrity(religious_places)"
   ]
  },
  {
   "cell_type": "code",
   "execution_count": 46,
   "metadata": {
    "collapsed": false
   },
   "outputs": [
    {
     "name": "stdout",
     "output_type": "stream",
     "text": [
      "1122 out of 1217 places will have NA values in database.\n"
     ]
    }
   ],
   "source": [
    "print str(len(missing))+\" out of \"+str(len(religious_places))+\" places will have NULL values in database.\""
   ]
  },
  {
   "cell_type": "markdown",
   "metadata": {},
   "source": [
    "**Function below will process all results and insert them into SQL table.**"
   ]
  },
  {
   "cell_type": "code",
   "execution_count": 47,
   "metadata": {
    "collapsed": true
   },
   "outputs": [],
   "source": [
    "def insert_values(cursor,table,columns,values):\n",
    "    sql_values = \"\"\n",
    "    for value in values:\n",
    "        values_str = \"\"\n",
    "        for column in columns:\n",
    "            if len(values_str)>0:\n",
    "                values_str += \",\"\n",
    "            if column in value:\n",
    "                #replace quotes with double quotes in texts: special chars in SQL\n",
    "                values_str += \"'\"+value[column].replace(\"'\",\"''\")+\"'\"\n",
    "            else:\n",
    "                values_str += \"NULL\"\n",
    "        if len(sql_values)>0:\n",
    "            sql_values += \",\"\n",
    "        sql_values += \"(\"+values_str+\")\"\n",
    "    c.execute('INSERT INTO {tn} ({columns}) values {values}'\n",
    "              .format(tn=table, columns=\",\".join(columns), values=sql_values.encode(\"utf-8\")))"
   ]
  },
  {
   "cell_type": "code",
   "execution_count": 48,
   "metadata": {
    "collapsed": false
   },
   "outputs": [],
   "source": [
    "insert_values(c,table,columns,religious_places)\n",
    "conn.commit()"
   ]
  },
  {
   "cell_type": "markdown",
   "metadata": {},
   "source": [
    "# Data Overview and Additional Ideas"
   ]
  },
  {
   "cell_type": "markdown",
   "metadata": {},
   "source": [
    "## Data File Size"
   ]
  },
  {
   "cell_type": "code",
   "execution_count": 49,
   "metadata": {
    "collapsed": false
   },
   "outputs": [
    {
     "name": "stdout",
     "output_type": "stream",
     "text": [
      "istanbul_turkey.osm........242MB\n",
      "istanbul_osm.sqlite........130kB\n"
     ]
    }
   ],
   "source": [
    "print DATA_FILE+\"........\"+str(os.stat(DATA_FILE).st_size/(1024*1024))+\"MB\"\n",
    "print sqlite_file+\"........\"+str(os.stat(sqlite_file).st_size/(1024))+\"kB\""
   ]
  },
  {
   "cell_type": "markdown",
   "metadata": {},
   "source": [
    "## Sample SQL Queries"
   ]
  },
  {
   "cell_type": "markdown",
   "metadata": {},
   "source": [
    "### Top Religios Place Types"
   ]
  },
  {
   "cell_type": "code",
   "execution_count": 50,
   "metadata": {
    "collapsed": false
   },
   "outputs": [
    {
     "data": {
      "text/html": [
       "<div>\n",
       "<style>\n",
       "    .dataframe thead tr:only-child th {\n",
       "        text-align: right;\n",
       "    }\n",
       "\n",
       "    .dataframe thead th {\n",
       "        text-align: left;\n",
       "    }\n",
       "\n",
       "    .dataframe tbody tr th {\n",
       "        vertical-align: top;\n",
       "    }\n",
       "</style>\n",
       "<table border=\"1\" class=\"dataframe\">\n",
       "  <thead>\n",
       "    <tr style=\"text-align: right;\">\n",
       "      <th></th>\n",
       "      <th>0</th>\n",
       "      <th>1</th>\n",
       "      <th>2</th>\n",
       "      <th>3</th>\n",
       "      <th>4</th>\n",
       "      <th>5</th>\n",
       "      <th>6</th>\n",
       "      <th>7</th>\n",
       "    </tr>\n",
       "  </thead>\n",
       "  <tbody>\n",
       "    <tr>\n",
       "      <th>Type</th>\n",
       "      <td>Mosque</td>\n",
       "      <td>Church</td>\n",
       "      <td>Graveyard</td>\n",
       "      <td>Other</td>\n",
       "      <td>Synagogue</td>\n",
       "      <td>Monastery</td>\n",
       "      <td>Islamic School</td>\n",
       "      <td>Temple</td>\n",
       "    </tr>\n",
       "    <tr>\n",
       "      <th>Count</th>\n",
       "      <td>1060</td>\n",
       "      <td>71</td>\n",
       "      <td>45</td>\n",
       "      <td>20</td>\n",
       "      <td>9</td>\n",
       "      <td>6</td>\n",
       "      <td>5</td>\n",
       "      <td>1</td>\n",
       "    </tr>\n",
       "  </tbody>\n",
       "</table>\n",
       "</div>"
      ],
      "text/plain": [
       "            0       1          2      3          4          5               6  \\\n",
       "Type   Mosque  Church  Graveyard  Other  Synagogue  Monastery  Islamic School   \n",
       "Count    1060      71         45     20          9          6               5   \n",
       "\n",
       "            7  \n",
       "Type   Temple  \n",
       "Count       1  "
      ]
     },
     "execution_count": 50,
     "metadata": {},
     "output_type": "execute_result"
    }
   ],
   "source": [
    "c.execute(\"select type, count(type) as count from religious_places group by type order by count desc\")\n",
    "pd.DataFrame(c.fetchall(),columns=[\"Type\",\"Count\"]).transpose()"
   ]
  },
  {
   "cell_type": "markdown",
   "metadata": {},
   "source": [
    "### Top Religious Place Names"
   ]
  },
  {
   "cell_type": "code",
   "execution_count": 51,
   "metadata": {
    "collapsed": false
   },
   "outputs": [
    {
     "data": {
      "text/html": [
       "<div>\n",
       "<style>\n",
       "    .dataframe thead tr:only-child th {\n",
       "        text-align: right;\n",
       "    }\n",
       "\n",
       "    .dataframe thead th {\n",
       "        text-align: left;\n",
       "    }\n",
       "\n",
       "    .dataframe tbody tr th {\n",
       "        vertical-align: top;\n",
       "    }\n",
       "</style>\n",
       "<table border=\"1\" class=\"dataframe\">\n",
       "  <thead>\n",
       "    <tr style=\"text-align: right;\">\n",
       "      <th></th>\n",
       "      <th>0</th>\n",
       "      <th>1</th>\n",
       "      <th>2</th>\n",
       "      <th>3</th>\n",
       "      <th>4</th>\n",
       "      <th>5</th>\n",
       "      <th>6</th>\n",
       "      <th>7</th>\n",
       "      <th>8</th>\n",
       "      <th>9</th>\n",
       "    </tr>\n",
       "  </thead>\n",
       "  <tbody>\n",
       "    <tr>\n",
       "      <th>Type</th>\n",
       "      <td>Cami</td>\n",
       "      <td>Mezarlık</td>\n",
       "      <td>Mevlana Cami</td>\n",
       "      <td>Fatih cami</td>\n",
       "      <td>Yunus Emre Cami</td>\n",
       "      <td>Akşemsettin Cami</td>\n",
       "      <td>Berat Cami</td>\n",
       "      <td>Huzur Cami</td>\n",
       "      <td>Hz. Ali Cami</td>\n",
       "      <td>Hz. Ebubekir cami</td>\n",
       "    </tr>\n",
       "    <tr>\n",
       "      <th>Count</th>\n",
       "      <td>219</td>\n",
       "      <td>8</td>\n",
       "      <td>6</td>\n",
       "      <td>4</td>\n",
       "      <td>4</td>\n",
       "      <td>3</td>\n",
       "      <td>3</td>\n",
       "      <td>3</td>\n",
       "      <td>3</td>\n",
       "      <td>3</td>\n",
       "    </tr>\n",
       "  </tbody>\n",
       "</table>\n",
       "</div>"
      ],
      "text/plain": [
       "          0         1             2           3                4  \\\n",
       "Type   Cami  Mezarlık  Mevlana Cami  Fatih cami  Yunus Emre Cami   \n",
       "Count   219         8             6           4                4   \n",
       "\n",
       "                      5           6           7             8  \\\n",
       "Type   Akşemsettin Cami  Berat Cami  Huzur Cami  Hz. Ali Cami   \n",
       "Count                 3           3           3             3   \n",
       "\n",
       "                       9  \n",
       "Type   Hz. Ebubekir cami  \n",
       "Count                  3  "
      ]
     },
     "execution_count": 51,
     "metadata": {},
     "output_type": "execute_result"
    }
   ],
   "source": [
    "c.execute(\"select name, count(type) as count from religious_places group by name order by count desc\")\n",
    "pd.DataFrame(c.fetchall(),columns=[\"Type\",\"Count\"]).head(10).transpose()"
   ]
  },
  {
   "cell_type": "markdown",
   "metadata": {},
   "source": [
    "### Religion Rank by # of Places"
   ]
  },
  {
   "cell_type": "code",
   "execution_count": 52,
   "metadata": {
    "collapsed": false
   },
   "outputs": [
    {
     "data": {
      "text/html": [
       "<div>\n",
       "<style>\n",
       "    .dataframe thead tr:only-child th {\n",
       "        text-align: right;\n",
       "    }\n",
       "\n",
       "    .dataframe thead th {\n",
       "        text-align: left;\n",
       "    }\n",
       "\n",
       "    .dataframe tbody tr th {\n",
       "        vertical-align: top;\n",
       "    }\n",
       "</style>\n",
       "<table border=\"1\" class=\"dataframe\">\n",
       "  <thead>\n",
       "    <tr style=\"text-align: right;\">\n",
       "      <th></th>\n",
       "      <th>0</th>\n",
       "      <th>1</th>\n",
       "      <th>2</th>\n",
       "      <th>3</th>\n",
       "    </tr>\n",
       "  </thead>\n",
       "  <tbody>\n",
       "    <tr>\n",
       "      <th>Type</th>\n",
       "      <td>muslim</td>\n",
       "      <td>christian</td>\n",
       "      <td>jewish</td>\n",
       "      <td>pastafarian</td>\n",
       "    </tr>\n",
       "    <tr>\n",
       "      <th>Count</th>\n",
       "      <td>1108</td>\n",
       "      <td>96</td>\n",
       "      <td>12</td>\n",
       "      <td>1</td>\n",
       "    </tr>\n",
       "  </tbody>\n",
       "</table>\n",
       "</div>"
      ],
      "text/plain": [
       "            0          1       2            3\n",
       "Type   muslim  christian  jewish  pastafarian\n",
       "Count    1108         96      12            1"
      ]
     },
     "execution_count": 52,
     "metadata": {},
     "output_type": "execute_result"
    }
   ],
   "source": [
    "c.execute(\"select religion, count(type) as count from religious_places group by religion order by count desc\")\n",
    "pd.DataFrame(c.fetchall(),columns=[\"Type\",\"Count\"]).transpose()"
   ]
  },
  {
   "cell_type": "markdown",
   "metadata": {},
   "source": [
    "# Additional Ideas"
   ]
  },
  {
   "cell_type": "markdown",
   "metadata": {},
   "source": [
    "### Places with few Attributes"
   ]
  },
  {
   "cell_type": "markdown",
   "metadata": {},
   "source": [
    "There are lots of places with a single attribute which provides no insight into the place itself. Most of these places are ignored in our data exploration stages. These entries either belong to some incomplete data or they are garbage as a whole. \n",
    "\n",
    "I think some incentives could be taken to clean or complete these entries. Gamification and AutoBots could be two of possible solutions.\n",
    "\n",
    "||Pros|Cons|\n",
    "|-|-|-|\n",
    "|Gamification|Users will be motivated to contribute more|The abundance of similar types of missing entries could annoy users|\n",
    "|AutoBots|Very fast resolution|Contributions being little of value to the completeness of the data|\n",
    "\n",
    "A hybrid solution could potentially improve overall results better.\n"
   ]
  },
  {
   "cell_type": "markdown",
   "metadata": {},
   "source": [
    "# Conclusion"
   ]
  },
  {
   "cell_type": "markdown",
   "metadata": {},
   "source": [
    "Data set seems to be filled with incomplete and garbage entries. This limits our ability to extract all information in addition to our ability to distinguish incomplete data from abundant data.\n",
    "\n",
    "A quick check on Wikipedia gives us the [List of Churches](https://tr.wikipedia.org/wiki/%C4%B0stanbul%27daki_kiliseler_listesi) and the [List of Mosques](https://tr.wikipedia.org/wiki/%C4%B0stanbul%27daki_camiler_listesi) in Istanbul. This shows that there is around 110-120 churches in Istanbul where as our data set has 71 with comlete data. In addition the second list provides names of around 3k mosques in Istanbul. We were able to extract data only for 1060 of them. This shows that our dataset is incomplete to a great extent."
   ]
  }
 ],
 "metadata": {
  "kernelspec": {
   "display_name": "Python 2",
   "language": "python",
   "name": "python2"
  },
  "language_info": {
   "codemirror_mode": {
    "name": "ipython",
    "version": 2
   },
   "file_extension": ".py",
   "mimetype": "text/x-python",
   "name": "python",
   "nbconvert_exporter": "python",
   "pygments_lexer": "ipython2",
   "version": "2.7.13"
  }
 },
 "nbformat": 4,
 "nbformat_minor": 2
}
