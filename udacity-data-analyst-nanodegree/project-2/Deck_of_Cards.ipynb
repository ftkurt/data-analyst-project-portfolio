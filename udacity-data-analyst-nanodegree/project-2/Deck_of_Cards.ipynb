{
 "cells": [
  {
   "cell_type": "markdown",
   "metadata": {},
   "source": [
    "# Deck of Cards"
   ]
  },
  {
   "cell_type": "markdown",
   "metadata": {},
   "source": [
    "## Data Generation"
   ]
  },
  {
   "cell_type": "code",
   "execution_count": 1,
   "metadata": {
    "collapsed": false
   },
   "outputs": [],
   "source": [
    "import random\n",
    "import numpy as np\n",
    "from scipy import stats\n",
    "import math\n",
    "import matplotlib.pyplot as plt\n",
    "from matplotlib import pyplot\n",
    "\n",
    "sample_size=30000\n",
    "my_seed = 12343\n",
    "random.seed(my_seed)\n",
    "sets = [\"s\",\"h\",\"d\",\"c\"]\n",
    "cards = ['A','2','3','4','5','6','7','8','9','10','J','Q','K']\n",
    "cardValues = [1,2,3,4,5,6,7,8,9,10,10,10,10]\n",
    "def get_deck():\n",
    "    deck_=[]\n",
    "    for set_ in sets:\n",
    "        for cardInd in range(13):\n",
    "            deck_.append({\n",
    "                \"set\":set_,\n",
    "                \"card\":cards[cardInd],\n",
    "                \"cardValue\":cardValues[cardInd]\n",
    "            })\n",
    "    random.shuffle(deck_)\n",
    "    return deck_"
   ]
  },
  {
   "cell_type": "code",
   "execution_count": 2,
   "metadata": {
    "collapsed": true
   },
   "outputs": [],
   "source": [
    "def choose_a_card(deck):\n",
    "    return deck[random.randint(0,len(deck)-1)]\n",
    "\n",
    "def get_values(data):\n",
    "    values = []\n",
    "    for sample in data:\n",
    "        values.append(sample[\"cardValue\"])\n",
    "    return values\n",
    "def draw_a_card(deck_):\n",
    "    card = deck_[random.randint(0,len(deck_)-1)]\n",
    "    deck_.remove(card)\n",
    "    return card\n",
    "\n",
    "def multiple_draw(deck_,consequtive_draw_size):\n",
    "    result = []\n",
    "    for sample in range(sample_size):\n",
    "        card_sum = 0\n",
    "        deck_copy = deck_[:]\n",
    "        for sample1 in range(consequtive_draw_size):\n",
    "            card = draw_a_card(deck_copy)\n",
    "            card_sum += card[\"cardValue\"]\n",
    "        # normalize values by number of draws so that we will be able to compare them\n",
    "        result.append(card_sum/consequtive_draw_size)\n",
    "    return result"
   ]
  },
  {
   "cell_type": "code",
   "execution_count": 3,
   "metadata": {
    "collapsed": true
   },
   "outputs": [],
   "source": [
    "def show_stats(data):\n",
    "    stts = stats.describe(data)\n",
    "    median = np.median(np.array(data))\n",
    "    std = math.sqrt(stts.variance)\n",
    "    first = np.percentile(data, 25)\n",
    "    second = median\n",
    "    third = np.percentile(data, 75)\n",
    "    print(\"Mean: \"+str(stts.mean))\n",
    "    print(\"Median: \"+str(median))\n",
    "    print(\"Variance: \"+str(stts.variance))\n",
    "    print(\"STD: \"+str(std))\n",
    "    print(\"IQR:\"+str(third-first))\n",
    "    print(\"1st Quartile:\"+str(first))\n",
    "    print(\"3rd Quartile:\"+str(third))\n",
    "    print(\"Range:\"+str(stts.minmax))"
   ]
  },
  {
   "cell_type": "code",
   "execution_count": 4,
   "metadata": {
    "collapsed": false
   },
   "outputs": [
    {
     "data": {
      "text/plain": [
       "{'card': '3', 'cardValue': 3, 'set': 's'}"
      ]
     },
     "execution_count": 4,
     "metadata": {},
     "output_type": "execute_result"
    }
   ],
   "source": [
    "deck = get_deck()\n",
    "choose_a_card(deck)"
   ]
  },
  {
   "cell_type": "markdown",
   "metadata": {},
   "source": [
    "### Part 1\n",
    "\n",
    "First, create a histogram depicting the relative frequencies of the card values for a single draw. Report the mean, median, and standard deviation of the value distribution. (You should have performed this step in the Distribution of Card Values section.)\n",
    "\n"
   ]
  },
  {
   "cell_type": "code",
   "execution_count": 5,
   "metadata": {
    "collapsed": false
   },
   "outputs": [],
   "source": [
    "single_draw_data = multiple_draw(deck,1)"
   ]
  },
  {
   "cell_type": "markdown",
   "metadata": {},
   "source": [
    "In above tests, cards are drew 30000 times each time with a fresh start. \n",
    "\n",
    "Results from above show that our statistics are as below:"
   ]
  },
  {
   "cell_type": "code",
   "execution_count": 6,
   "metadata": {
    "collapsed": false
   },
   "outputs": [
    {
     "name": "stdout",
     "output_type": "stream",
     "text": [
      "Mean: 6.5226\n",
      "Median: 7.0\n",
      "Variance: 9.9594878896\n",
      "STD: 3.15586563237\n",
      "IQR:6.0\n",
      "1st Quartile:4.0\n",
      "3rd Quartile:10.0\n",
      "Range:(1, 10)\n"
     ]
    }
   ],
   "source": [
    "show_stats(single_draw_data)"
   ]
  },
  {
   "cell_type": "code",
   "execution_count": 7,
   "metadata": {
    "collapsed": false
   },
   "outputs": [
    {
     "data": {
      "image/png": "[encoded data removed]",
      "text/plain": [
       "<matplotlib.figure.Figure at 0x10365d490>"
      ]
     },
     "metadata": {},
     "output_type": "display_data"
    }
   ],
   "source": [
    "\n",
    "bins = [1,2,3,4,5,6,7,8,9,10]\n",
    "np.histogram(single_draw_data,bins)\n",
    "plt.hist(single_draw_data,bins=bins)\n",
    "plt.show()"
   ]
  },
  {
   "cell_type": "markdown",
   "metadata": {},
   "source": [
    "### Part 2\n",
    "\n",
    "Take a look at the distribution of the three-card sums from the samples that you obtained, either from Generate Data, or from your own collection. Report descriptive statistics for the samples you have drawn. Include at least two measures of central tendency and two measures of variability.\n"
   ]
  },
  {
   "cell_type": "code",
   "execution_count": 8,
   "metadata": {
    "collapsed": false
   },
   "outputs": [],
   "source": [
    "three_card_data = multiple_draw(deck,3)"
   ]
  },
  {
   "cell_type": "code",
   "execution_count": 9,
   "metadata": {
    "collapsed": false
   },
   "outputs": [
    {
     "name": "stdout",
     "output_type": "stream",
     "text": [
      "Mean: 6.23326666667\n",
      "Median: 6.0\n",
      "Variance: 3.28209606542\n",
      "STD: 1.81165561447\n",
      "IQR:2.0\n",
      "1st Quartile:5.0\n",
      "3rd Quartile:7.0\n",
      "Range:(1, 10)\n"
     ]
    }
   ],
   "source": [
    "show_stats(three_card_data)"
   ]
  },
  {
   "cell_type": "markdown",
   "metadata": {},
   "source": [
    "### Part 3\n",
    "Create a histogram of the sampled three-card sums. Compare its shape to that of the original distribution. How are they different, and can you explain why this is the case?"
   ]
  },
  {
   "cell_type": "code",
   "execution_count": 10,
   "metadata": {
    "collapsed": false
   },
   "outputs": [
    {
     "name": "stdout",
     "output_type": "stream",
     "text": [
      "3-Card Draw stats\n",
      "Mean: 6.23326666667\n",
      "Median: 6.0\n",
      "Variance: 3.28209606542\n",
      "STD: 1.81165561447\n",
      "IQR:2.0\n",
      "1st Quartile:5.0\n",
      "3rd Quartile:7.0\n",
      "Range:(1, 10)\n"
     ]
    },
    {
     "data": {
      "image/png": "[encoded data removed]",
      "text/plain": [
       "<matplotlib.figure.Figure at 0x1086f4590>"
      ]
     },
     "metadata": {},
     "output_type": "display_data"
    }
   ],
   "source": [
    "print('3-Card Draw stats')\n",
    "show_stats(three_card_data)\n",
    "pyplot.hist(single_draw_data, bins, alpha=0.3, label='1-Card Draw')\n",
    "pyplot.hist(three_card_data, bins, alpha=0.3, label='3-Card Draw')\n",
    "pyplot.legend(loc='upper left')\n",
    "pyplot.show()"
   ]
  },
  {
   "cell_type": "markdown",
   "metadata": {},
   "source": [
    "Above figure shows both histogram concurrently. The histograms seem to be different in terms of centrality. When we go from single draw to multiple draws without replacing we see that average score approaches to the central value. Note that to make three-draw test comparable to a single-draw test, we combined triple draws and normalized total value by number of draws, which is 3 in this case. "
   ]
  },
  {
   "cell_type": "markdown",
   "metadata": {},
   "source": [
    "### Part 4\n",
    "Make some estimates about values you would get on future draws. Within what range will you expect approximately 90% of your draw values to fall? What is the approximate probability that you will get a draw value of at least 20? Make sure you justify how you obtained your values."
   ]
  },
  {
   "cell_type": "code",
   "execution_count": 11,
   "metadata": {
    "collapsed": false
   },
   "outputs": [
    {
     "data": {
      "image/png": "[encoded data removed]",
      "text/plain": [
       "<matplotlib.figure.Figure at 0x10b35bf50>"
      ]
     },
     "metadata": {},
     "output_type": "display_data"
    }
   ],
   "source": [
    "for draw in range(1,10):\n",
    "    pyplot.hist(multiple_draw(deck,draw), bins, alpha=0.3, label=str(draw)+'-Card Draw')\n",
    "pyplot.legend(loc='upper left')\n",
    "pyplot.show()\n",
    "#np.histogram(data_values_triplets,range(3,30))\n",
    "#plt.hist(data_values_triplets,bins=range(3,30))\n",
    "#plt.show()"
   ]
  },
  {
   "cell_type": "markdown",
   "metadata": {},
   "source": [
    "Above data graphs shows historgrams for varying number of consequtive draws. It clearly shows histograms become more and more central. The reason for this is when we draw cards consequtively, the possibility of selecting samples having highest number of instances decreases while average values near center increases. This leads to having more central result."
   ]
  }
 ],
 "metadata": {
  "kernelspec": {
   "display_name": "Python 2",
   "language": "python",
   "name": "python2"
  },
  "language_info": {
   "codemirror_mode": {
    "name": "ipython",
    "version": 2
   },
   "file_extension": ".py",
   "mimetype": "text/x-python",
   "name": "python",
   "nbconvert_exporter": "python",
   "pygments_lexer": "ipython2",
   "version": "2.7.13"
  }
 },
 "nbformat": 4,
 "nbformat_minor": 2
}
