{
 "cells": [
  {
   "cell_type": "markdown",
   "metadata": {},
   "source": [
    "Project 6: Stroop Effect\n",
    "============\n",
    "_______"
   ]
  },
  {
   "cell_type": "markdown",
   "metadata": {},
   "source": [
    "# Background Information\n",
    "> In a Stroop task, participants are presented with a list of words, with each word displayed in a color of ink. The participant’s task is to say out loud the color of the ink in which the word is printed. The task has two conditions: a congruent words condition, and an incongruent words condition. In the congruent words condition, the words being displayed are color words whose names match the colors in which they are printed: for example <span style=\"color:red\">RED</span>, <span style=\"color:blue\">BLUE</span>. In the incongruent words condition, the words displayed are color words whose names do not match the colors in which they are printed: for example <span style=\"color:green\">PURPLE</span>, <span style=\"color:purple\">ORANGE</span>. In each case, we measure the time it takes to name the ink colors in equally-sized lists. Each participant will go through and record a time from each condition.\n"
   ]
  },
  {
   "cell_type": "markdown",
   "metadata": {},
   "source": [
    "# Loading Data"
   ]
  },
  {
   "cell_type": "markdown",
   "metadata": {},
   "source": [
    "> Data set is retrieved from [this source](https://drive.google.com/file/d/0B9Yf01UaIbUgQXpYb2NhZ29yX1U/view)."
   ]
  },
  {
   "cell_type": "code",
   "execution_count": 1,
   "metadata": {
    "collapsed": true
   },
   "outputs": [],
   "source": [
    "library(ggplot2)\n",
    "library(repr) # resize plot\n",
    "library(gridExtra) # grid for plots\n",
    "library(GGally) # ggpairs - multivariate summary"
   ]
  },
  {
   "cell_type": "code",
   "execution_count": 2,
   "metadata": {
    "collapsed": false
   },
   "outputs": [
    {
     "data": {
      "text/html": [
       "<table>\n",
       "<thead><tr><th scope=col>Congruent</th><th scope=col>Incongruent</th></tr></thead>\n",
       "<tbody>\n",
       "\t<tr><td>12.079</td><td>19.278</td></tr>\n",
       "\t<tr><td>16.791</td><td>18.741</td></tr>\n",
       "\t<tr><td> 9.564</td><td>21.214</td></tr>\n",
       "\t<tr><td> 8.630</td><td>15.687</td></tr>\n",
       "\t<tr><td>14.669</td><td>22.803</td></tr>\n",
       "\t<tr><td>12.238</td><td>20.878</td></tr>\n",
       "</tbody>\n",
       "</table>\n"
      ],
      "text/latex": [
       "\\begin{tabular}{r|ll}\n",
       " Congruent & Incongruent\\\\\n",
       "\\hline\n",
       "\t 12.079 & 19.278\\\\\n",
       "\t 16.791 & 18.741\\\\\n",
       "\t  9.564 & 21.214\\\\\n",
       "\t  8.630 & 15.687\\\\\n",
       "\t 14.669 & 22.803\\\\\n",
       "\t 12.238 & 20.878\\\\\n",
       "\\end{tabular}\n"
      ],
      "text/markdown": [
       "\n",
       "Congruent | Incongruent | \n",
       "|---|---|---|---|---|---|\n",
       "| 12.079 | 19.278 | \n",
       "| 16.791 | 18.741 | \n",
       "|  9.564 | 21.214 | \n",
       "|  8.630 | 15.687 | \n",
       "| 14.669 | 22.803 | \n",
       "| 12.238 | 20.878 | \n",
       "\n",
       "\n"
      ],
      "text/plain": [
       "  Congruent Incongruent\n",
       "1 12.079    19.278     \n",
       "2 16.791    18.741     \n",
       "3  9.564    21.214     \n",
       "4  8.630    15.687     \n",
       "5 14.669    22.803     \n",
       "6 12.238    20.878     "
      ]
     },
     "metadata": {},
     "output_type": "display_data"
    }
   ],
   "source": [
    "# Load the Data\n",
    "se <- read.csv(\"stroopdata.csv\")\n",
    "head(se)"
   ]
  },
  {
   "cell_type": "code",
   "execution_count": 3,
   "metadata": {
    "collapsed": false
   },
   "outputs": [
    {
     "data": {
      "text/html": [
       "<ol class=list-inline>\n",
       "\t<li>24</li>\n",
       "\t<li>2</li>\n",
       "</ol>\n"
      ],
      "text/latex": [
       "\\begin{enumerate*}\n",
       "\\item 24\n",
       "\\item 2\n",
       "\\end{enumerate*}\n"
      ],
      "text/markdown": [
       "1. 24\n",
       "2. 2\n",
       "\n",
       "\n"
      ],
      "text/plain": [
       "[1] 24  2"
      ]
     },
     "metadata": {},
     "output_type": "display_data"
    }
   ],
   "source": [
    "dim(se)"
   ]
  },
  {
   "cell_type": "code",
   "execution_count": 4,
   "metadata": {
    "collapsed": false
   },
   "outputs": [
    {
     "name": "stdout",
     "output_type": "stream",
     "text": [
      "'data.frame':\t24 obs. of  2 variables:\n",
      " $ Congruent  : num  12.08 16.79 9.56 8.63 14.67 ...\n",
      " $ Incongruent: num  19.3 18.7 21.2 15.7 22.8 ...\n"
     ]
    }
   ],
   "source": [
    "str(se)"
   ]
  },
  {
   "cell_type": "markdown",
   "metadata": {},
   "source": [
    "# Investigation\n",
    "\n",
    "As a general note, be sure to keep a record of any resources that you use or refer to in the creation of your project. You will need to report your sources as part of the project submission."
   ]
  },
  {
   "cell_type": "markdown",
   "metadata": {},
   "source": [
    "## 1. What is our independent variable? What is our dependent variable?"
   ]
  },
  {
   "cell_type": "markdown",
   "metadata": {},
   "source": [
    "> **Independent variable** or the variable changed here for the experiment is the <u>text of colors/ink</u>.  \n",
    "\n",
    "> **Dependent variable** or the variable which is observed is the <u>duration in which a person names all ink colors.</u>.  "
   ]
  },
  {
   "cell_type": "markdown",
   "metadata": {},
   "source": [
    "## 2. What is an appropriate set of hypotheses for this task? What kind of statistical test do you expect to perform? Justify your choices."
   ]
  },
  {
   "cell_type": "markdown",
   "metadata": {},
   "source": [
    "> <p class=\"c2\"><span>Now it’s your chance to try out the Stroop task for yourself. Go to </span><span class=\"c7\"><a class=\"c8\" href=\"https://www.google.com/url?q=https://faculty.washington.edu/chudler/java/ready.html&amp;sa=D&amp;ust=1505688389258000&amp;usg=AFQjCNGyoQJYdsm_R0nn3SJE1TUb-wWtbw\">this link</a></span><span>, which has a Java-based applet for performing the Stroop task. Record the times that you received on the task (you do not need to submit your times to the site.) Now, download </span><span class=\"c7\"><a class=\"c8\" href=\"https://www.google.com/url?q=https://drive.google.com/file/d/0B9Yf01UaIbUgQXpYb2NhZ29yX1U/view?usp%3Dsharing&amp;sa=D&amp;ust=1505688389259000&amp;usg=AFQjCNHUSBUafLP3-4LLBae2NIy8gRkS1Q\">this dataset</a></span><span class=\"c6\">&nbsp;which contains results from a number of participants in the task. Each row of the dataset contains the performance for one participant, with the first number their results on the congruent task and the second number their performance on the incongruent task.</span></p>"
   ]
  },
  {
   "cell_type": "markdown",
   "metadata": {},
   "source": [
    "**My results:**\n",
    "\n",
    "**Congruent** --> 13.10s\n",
    "\n",
    "**Incongruent** --> 22.57s\n",
    "______"
   ]
  },
  {
   "cell_type": "markdown",
   "metadata": {},
   "source": [
    "**Null Hypothesis:**\n",
    "* **H<sub>0</sub>**: μ = μ<sub>0</sub> --> Changing text of color to another color will **have no effect** on mean duration of naming an ink color.\n",
    "\n",
    "**Alternate Hypothesis:**\n",
    "* **H<sub>A</sub>**: μ > μ<sub>0</sub> --> Changing text of color to another color will **increase** mean duration of naming an ink color.\n",
    "___________\n",
    "\n",
    "> **μ**: Population mean after experimented change\n",
    "\n",
    "> **μ<sub>0</sub>**: Population mean prior to change"
   ]
  },
  {
   "cell_type": "markdown",
   "metadata": {},
   "source": [
    "> We don't know population parameters, we only have two dependent samples from the same subject group. The experiment process fits into pre-test / post-test design. Therefore, we are going to apply **dependent t-test for paired samples**:"
   ]
  },
  {
   "cell_type": "markdown",
   "metadata": {},
   "source": [
    "## 3. Report some descriptive statistics regarding this dataset. Include at least one measure of central tendency and at least one measure of variability."
   ]
  },
  {
   "cell_type": "code",
   "execution_count": 5,
   "metadata": {
    "collapsed": false
   },
   "outputs": [
    {
     "data": {
      "text/plain": [
       "   Min. 1st Qu.  Median    Mean 3rd Qu.    Max. \n",
       "   8.63   11.90   14.36   14.05   16.20   22.33 "
      ]
     },
     "metadata": {},
     "output_type": "display_data"
    }
   ],
   "source": [
    "summary(se$Congruent)"
   ]
  },
  {
   "cell_type": "code",
   "execution_count": 6,
   "metadata": {
    "collapsed": false
   },
   "outputs": [
    {
     "data": {
      "text/plain": [
       "   Min. 1st Qu.  Median    Mean 3rd Qu.    Max. \n",
       "  15.69   18.72   21.02   22.02   24.05   35.26 "
      ]
     },
     "metadata": {},
     "output_type": "display_data"
    }
   ],
   "source": [
    "summary(se$Incongruent)"
   ]
  },
  {
   "cell_type": "code",
   "execution_count": 7,
   "metadata": {
    "collapsed": false
   },
   "outputs": [
    {
     "data": {
      "text/html": [
       "3.5593579576452"
      ],
      "text/latex": [
       "3.5593579576452"
      ],
      "text/markdown": [
       "3.5593579576452"
      ],
      "text/plain": [
       "[1] 3.559358"
      ]
     },
     "metadata": {},
     "output_type": "display_data"
    }
   ],
   "source": [
    "sd(se$Congruent)"
   ]
  },
  {
   "cell_type": "code",
   "execution_count": 8,
   "metadata": {
    "collapsed": false
   },
   "outputs": [
    {
     "data": {
      "text/html": [
       "4.79705712246914"
      ],
      "text/latex": [
       "4.79705712246914"
      ],
      "text/markdown": [
       "4.79705712246914"
      ],
      "text/plain": [
       "[1] 4.797057"
      ]
     },
     "metadata": {},
     "output_type": "display_data"
    }
   ],
   "source": [
    "sd(se$Incongruent)"
   ]
  },
  {
   "cell_type": "markdown",
   "metadata": {},
   "source": [
    "**Standart Deviation:**\n",
    "\n",
    "StDev(Congruent, Incongruent) --> (3.56, 4.80)\n",
    "______"
   ]
  },
  {
   "cell_type": "markdown",
   "metadata": {},
   "source": [
    "## 4. Provide one or two visualizations that show the distribution of the sample data. Write one or two sentences noting what you observe about the plot or plots."
   ]
  },
  {
   "cell_type": "code",
   "execution_count": 9,
   "metadata": {
    "collapsed": false
   },
   "outputs": [
    {
     "data": {
      "image/png": "[encoded data removed]",
      "text/plain": [
       "plot without title"
      ]
     },
     "metadata": {},
     "output_type": "display_data"
    }
   ],
   "source": [
    "options(repr.plot.width=8, repr.plot.height=4)\n",
    "g1 <- ggplot(aes(x=Congruent), data=se) + geom_histogram(bins=10)\n",
    "g2 <- ggplot(aes(x=Incongruent), data=se) + geom_histogram(bins=10)\n",
    "grid.arrange(g1,g2,ncol=2)"
   ]
  },
  {
   "cell_type": "markdown",
   "metadata": {},
   "source": [
    "> Both graphs seem to have a normal distribution with a few outliers at higher durations. For **Congruent** distribution, mean normal distribution is around 14, while this value is around 22 for **Incongruent** distribution."
   ]
  },
  {
   "cell_type": "markdown",
   "metadata": {},
   "source": [
    "\n",
    "## 5. Now, perform the statistical test and report your results. What is your confidence level and your critical statistic value? Do you reject the null hypothesis or fail to reject it? Come to a conclusion in terms of the experiment task. Did the results match up with your expectations?"
   ]
  },
  {
   "cell_type": "code",
   "execution_count": 10,
   "metadata": {
    "collapsed": true
   },
   "outputs": [],
   "source": [
    "se$diff <- (se$Congruent - se$Incongruent)"
   ]
  },
  {
   "cell_type": "markdown",
   "metadata": {},
   "source": [
    "I would like to set my critical value alpha at 0.05"
   ]
  },
  {
   "cell_type": "markdown",
   "metadata": {},
   "source": [
    "Degrees of freedom = (n - 1) = (24 - 1)\n",
    "\n",
    "Degrees of freedom = 23\n",
    "\n",
    "> Since our alternate hypothesis indicates that the duration will increase, we can apply one tailed test at positive direction.\n",
    "\n",
    "t<sub>critical</sub> = 1.714"
   ]
  },
  {
   "cell_type": "code",
   "execution_count": 11,
   "metadata": {
    "collapsed": false
   },
   "outputs": [
    {
     "data": {
      "text/html": [
       "4.86482691035905"
      ],
      "text/latex": [
       "4.86482691035905"
      ],
      "text/markdown": [
       "4.86482691035905"
      ],
      "text/plain": [
       "[1] 4.864827"
      ]
     },
     "metadata": {},
     "output_type": "display_data"
    }
   ],
   "source": [
    "sd(se$diff)"
   ]
  },
  {
   "cell_type": "markdown",
   "metadata": {},
   "source": [
    "S<sub>D</sub> = 4.86"
   ]
  },
  {
   "cell_type": "code",
   "execution_count": 12,
   "metadata": {
    "collapsed": false
   },
   "outputs": [
    {
     "data": {
      "text/html": [
       "8.02070694410996"
      ],
      "text/latex": [
       "8.02070694410996"
      ],
      "text/markdown": [
       "8.02070694410996"
      ],
      "text/plain": [
       "[1] 8.020707"
      ]
     },
     "metadata": {},
     "output_type": "display_data"
    }
   ],
   "source": [
    "t_statistic = (mean(se$Incongruent) - mean(se$Congruent)) /\n",
    "                (sd(se$diff) / sqrt(length(se$diff)))\n",
    "t_statistic"
   ]
  },
  {
   "cell_type": "markdown",
   "metadata": {},
   "source": [
    "t<sub>statistic</sub> = 8.02"
   ]
  },
  {
   "cell_type": "markdown",
   "metadata": {},
   "source": [
    "t<sub>statistic</sub> = 8.02 is much larger than t<sub>critical</sub> = 1.714. Therefore, we can conclude that our <u>**Null Hypothesis is wrong**</u> ,and our <u>**Alternate Hypothesis is correct**</u>.\n",
    "\n",
    "This means that changing ink text to a color name other than the ink color definitely increases the mean duration. "
   ]
  },
  {
   "cell_type": "markdown",
   "metadata": {},
   "source": [
    "## 6. Optional: What do you think is responsible for the effects observed? Can you think of an alternative or similar task that would result in a similar effect? Some research about the problem will be helpful for thinking about these two questions!"
   ]
  },
  {
   "cell_type": "markdown",
   "metadata": {},
   "source": [
    "> I think the reason duration in which naming ink color increases is that our minds tend to read text if the text indicates a related information to the information we are looking for. In this case, we are determining color of the ink, whereas the the very text which is inked denotes a color name.\n",
    "____\n",
    "\n",
    "> A similar test is asking for number of characters in a word. In an alternate test, the words can be cahnged to the numbers.\n",
    "\n",
    "> **For example:**\n",
    "\n",
    "> <u>Initial test</u> --> door, school, task, medicine\n",
    "\n",
    "> <u>Alternate test</u> --> five, seven, one, eleven"
   ]
  }
 ],
 "metadata": {
  "kernelspec": {
   "display_name": "R",
   "language": "R",
   "name": "ir"
  },
  "language_info": {
   "codemirror_mode": "r",
   "file_extension": ".r",
   "mimetype": "text/x-r-source",
   "name": "R",
   "pygments_lexer": "r",
   "version": "3.4.1"
  }
 },
 "nbformat": 4,
 "nbformat_minor": 2
}
