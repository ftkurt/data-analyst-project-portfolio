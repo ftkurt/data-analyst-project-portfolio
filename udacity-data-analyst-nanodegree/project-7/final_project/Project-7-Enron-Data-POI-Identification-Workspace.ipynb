{
 "cells": [
  {
   "cell_type": "markdown",
   "metadata": {},
   "source": [
    "# Question 1\n",
    "> Summarize for us the goal of this project and how machine learning is useful in trying to accomplish it. As part of your answer, give some background on the dataset and how it can be used to answer the project question. Were there any outliers in the data when you got it, and how did you handle those?  [relevant rubric items: “data exploration”, “outlier investigation”]"
   ]
  },
  {
   "cell_type": "markdown",
   "metadata": {},
   "source": [
    "This project aims to build an efficient machine learning algorithm to programatically detect potential persons of interest within data. The model is expected to make the best use of available features withing Enron Dataset as well as creating new features to predict the poi from the available features. \n",
    "\n",
    "Enron data has 146 data points, 18 of which belong POIs. Each datapoint has 14 features. Features cover a wide variety of data from financial attributes like salary, bonuses, payments to email statistics like emails to POI, and emails from POI. \n",
    "\n",
    "Dataset has one outlier data which belongs to an entry named \"TOTAL\". This entry clearly points to the subtotal for the entire dataset, and thereby should be discarded. Discaridng this entry leaves 18 POI and 127 non-POI entries. With 12.4% POI within dataset, data is skewed towards non-POIs. We should keep an eye on this insight during score extractions from models. Assuming we are primarily concerned with detecting as many POIs as possible, recall will be the primary score we will be looking to."
   ]
  },
  {
   "cell_type": "markdown",
   "metadata": {},
   "source": [
    "# Question 2\n",
    "> What features did you end up using in your POI identifier, and what selection process did you use to pick them? Did you have to do any scaling? Why or why not? As part of the assignment, you should attempt to engineer your own feature that does not come ready-made in the dataset -- explain what feature you tried to make, and the rationale behind it. (You do not necessarily have to use it in the final analysis, only engineer and test it.) In your feature selection step, if you used an algorithm like a decision tree, please also give the feature importances of the features that you use, and if you used an automated feature selection function like SelectKBest, please report the feature scores and reasons for your choice of parameter values.  [relevant rubric items: “create new features”, “intelligently select features”, “properly scale features”]"
   ]
  },
  {
   "cell_type": "markdown",
   "metadata": {},
   "source": [
    "Since the number of variables was within acecptable range, I started with the full set to decide on an model parameters. Later on I was planning on reducing number of parameters. First approach was using Tree Classifier parameter weights extracted from trained classifier usign full variable set. \n",
    "\n",
    "#### Here is list of parameters with non-zero values:\n",
    "\n",
    "|Parameter|Weight|\n",
    "|---|---|\n",
    "|from_poi_ratio|0.410935|\n",
    "|total_stock_value|0.188715|\n",
    "|bonus|0.124453|\n",
    "|shared_receipt_with_poi|0.106765|\n",
    "|to_messages|0.105462|\n",
    "|restricted_stock|0.063670|"
   ]
  },
  {
   "cell_type": "markdown",
   "metadata": {},
   "source": [
    "My second approach was finding variables having > 0.9 correlation with poi and >0.9 correlation with those that have >0.9 correlation with poi, and so forth until a depth value. I used a depth of 1. \n",
    "\n",
    "I did not use any scaling, knowing scaling would have no effect on tree classifiers which I believed will be optimal predictors for this project. However, I filled missing values each with a **GaussianNB** predictor that used all parameters other than the original one plus the **poi** parameter. Later on the predictions from **GaussianNB** predictor are used to fill missing values.\n",
    "\n",
    "I created two new variables, one for **ratio of mails received from POIs**, and the other for **ratio of mail sent to POIs**. I believe the numbers of mails sent to POI or received thereof would not give meaningful info. SOme might be sending too many emails or too few emails overall. In this case, having the ratio for their POI related emails would provide better insight."
   ]
  },
  {
   "cell_type": "markdown",
   "metadata": {},
   "source": [
    "# Question 3\n",
    "> What algorithm did you end up using? What other one(s) did you try? How did model performance differ between algorithms?  [relevant rubric item: “pick an algorithm”]"
   ]
  },
  {
   "cell_type": "markdown",
   "metadata": {},
   "source": [
    "I decided to try all classifiers including linear models with an added rounding layer. From Linear models GaussianNB, and Linear Regression, the predictors are used without parameter tuning, since they dont have parameter tuning. For Lasso and other regular classifiers, I used a set of parameters with Grid Search. All scores listed below belong to best parameter combinations."
   ]
  },
  {
   "cell_type": "markdown",
   "metadata": {},
   "source": [
    "#### Full Feature Set Results:\n",
    "\n",
    "Classifier|Accuracy|Precision|Recall|F1 Score|F2 Score\n",
    "---|---|---|---|---|---\n",
    "GaussianNB|0.886|0.33|0.25|0.286|0.263\n",
    "Linear Regression|0.864|0.25|0.25|0.25|0.25\n",
    "Lasso|0.8636363636363636|0.25|0.25|0.25|0.25\n",
    "SVC|0.9090909090909091|0.0|0.0|0.0|0.0\n",
    "DecisionTreeClassifier|0.841|0.2|0.25|0.22|0.238\n",
    "RandomForestClassifier|0.932|1.0|0.25|0.4|0.294\n",
    "\n",
    "#### DecisionTreeClassifier Weights Feature Selector\n",
    "\n",
    "Classifier|Accuracy|Precision|Recall|F1 Score|F2 Score\n",
    "---|---|---|---|---|---\n",
    "GaussianNB|0.886|0.4|0.5|0.444|0.476\n",
    "Linear Regression|0.91|0.5|0.25|0.333|0.278\n",
    "Lasso|0.91|0.5|0.25|0.333|0.278\n",
    "SVC|0.91|0.0|0.0|0.0|0.0\n",
    "DecisionTreeClassifier|0.886|0.4|0.5|0.444|0.476\n",
    "RandomForestClassifier|0.864|0.0|0.0|0.0|0.0\n",
    "\n",
    "#### Correlation (depth = 1) Results:\n",
    "\n",
    "Classifier|Accuracy|Precision|Recall|F1 Score|F2 Score\n",
    "---|---|---|---|---|---\n",
    "GaussianNB|0.864|0.25|0.25|0.25|0.25\n",
    "Linear Regression|0.886|0.333|0.25|0.2865|0.263\n",
    "Lasso|0.91|0.5|0.25|0.333|0.278\n",
    "SVC|0.91|0.0|0.0|0.0|0.0\n",
    "DecisionTreeClassifier|0.91|0.5|1.0|0.67|0.833\n",
    "RandomForestClassifier|0.977|1.0|0.75|0.857|0.789\n",
    "\n"
   ]
  },
  {
   "cell_type": "markdown",
   "metadata": {},
   "source": [
    "**Correlation @ Depth = 1** gave best results with highest Recall score of DecisionTreeClassifier (100%) and highest Precision of RandomForestClassifier (100%). \n",
    "\n",
    "Since finding all POIs is more important than precisely finding correct POIs, the primary score is Recall. Therefore, I decided to go with **DecisionTreeClassifier**."
   ]
  },
  {
   "cell_type": "markdown",
   "metadata": {},
   "source": [
    "# Question 4\n",
    "> What does it mean to tune the parameters of an algorithm, and what can happen if you don’t do this well?  How did you tune the parameters of your particular algorithm? What parameters did you tune? (Some algorithms do not have parameters that you need to tune -- if this is the case for the one you picked, identify and briefly explain how you would have done it for the model that was not your final choice or a different model that does utilize parameter tuning, e.g. a decision tree classifier).  [relevant rubric items: “discuss parameter tuning”, “tune the algorithm”]"
   ]
  },
  {
   "cell_type": "markdown",
   "metadata": {},
   "source": [
    "Classifiers have a lot of parameters in order to decide their behaviors with fitting data and classifiying input. Each data will need different set of parameter values to classify input the most efficiently. Parameter tuning is trying to find this best parameters or getting close enough.\n",
    "\n",
    "For this project I went through list of parameters available for tuning for each classifier. Each classifier is then wrapped with GridSearch alongside with this parameter ranges. Gridsearch, then tries all combinations of these parameter valu lists, and returns the best predictor configuration.\n",
    "\n",
    "At the end of parameter tuning I decided to go with **DecisionTreeClassifier**. The best parameters found with this classifier are as below:\n",
    "\n",
    "    DecisionTreeClassifier(class_weight=None, criterion='gini', max_depth=None\n",
    "        max_features=None, max_leaf_nodes=None,\n",
    "        min_impurity_split=1e-07, min_samples_leaf=5,\n",
    "        min_samples_split=2, min_weight_fraction_leaf=0.0,\n",
    "        presort=False, random_state=0, splitter='best')"
   ]
  },
  {
   "cell_type": "markdown",
   "metadata": {},
   "source": [
    "# Question 5\n",
    "> What is validation, and what’s a classic mistake you can make if you do it wrong? How did you validate your analysis?  [relevant rubric items: “discuss validation”, “validation strategy”]"
   ]
  },
  {
   "cell_type": "markdown",
   "metadata": {},
   "source": [
    "Validation is testing the classifier / model built for the purpose or classifying new data. To do this, original data should be split into two groups: **train** and **test**\n",
    "\n",
    "Train data is used to build model/classifier. Test data is used to validate if the model behaves as expected. Test data is expected to be completely new to the classifier at the time testing. Test data can also be split into validation and test for bling testing. But in this project we only split data into train and test.\n",
    "\n",
    "In model building stage of this project we also split data into train and test. We first fitted out classifiers with train dataset. Later on we evaluated our classifiers based on test data. \n",
    "\n",
    "However this type of evaluation is not deterministic enough. To get results better evaluating classifier n-fold validation is used. In this method, data is reshuffled n times and tested with split results for each fold. Overall results are then combined. "
   ]
  },
  {
   "cell_type": "markdown",
   "metadata": {},
   "source": [
    "# Question 6\n",
    "> Give at least 2 evaluation metrics and your average performance for each of them.  Explain an interpretation of your metrics that says something human-understandable about your algorithm’s performance. [relevant rubric item: “usage of evaluation metrics”]"
   ]
  },
  {
   "cell_type": "markdown",
   "metadata": {},
   "source": [
    "**Recall:** The ratio of POIs being identified.\n",
    "\n",
    "**Precision:** The ratio of identified entries being POIs\n",
    "\n",
    "My DecisionTreeClassifier achieved following scores for these metrics:\n",
    "\n",
    "* Recall: **0.39800**\n",
    "\n",
    "* Precision: **0.46468**"
   ]
  },
  {
   "cell_type": "markdown",
   "metadata": {},
   "source": [
    "_____________________"
   ]
  },
  {
   "cell_type": "markdown",
   "metadata": {},
   "source": [
    "# Project"
   ]
  },
  {
   "cell_type": "code",
   "execution_count": 1,
   "metadata": {
    "collapsed": true
   },
   "outputs": [],
   "source": [
    "import os\n",
    "import string\n",
    "import pickle\n",
    "import re\n",
    "import sys\n",
    "import math\n",
    "import cPickle\n",
    "import numpy as np\n",
    "import pandas as pd\n",
    "import random\n",
    "import matplotlib.pyplot as plt\n",
    "import seaborn as sns\n",
    "import nltk\n",
    "from nltk.corpus import stopwords\n",
    "from nltk.stem.snowball import SnowballStemmer\n",
    "from time import time\n",
    "from sklearn import svm\n",
    "from sklearn.metrics import accuracy_score, precision_score, recall_score\n",
    "from sklearn.metrics import r2_score\n",
    "from sklearn.metrics import precision_score, recall_score\n",
    "from sklearn.tree import DecisionTreeClassifier\n",
    "from sklearn.feature_extraction.text import TfidfVectorizer\n",
    "from sklearn.feature_extraction.text import TfidfTransformer\n",
    "from sklearn.feature_selection import SelectPercentile, f_classif, SelectKBest, chi2\n",
    "from sklearn.model_selection  import train_test_split, GridSearchCV\n",
    "from sklearn.ensemble import ExtraTreesClassifier, RandomForestClassifier\n",
    "from sklearn.linear_model import LinearRegression, Lasso\n",
    "from sklearn.cluster import KMeans\n",
    "from sklearn.preprocessing import MinMaxScaler\n",
    "from sklearn.naive_bayes import GaussianNB"
   ]
  },
  {
   "cell_type": "code",
   "execution_count": 2,
   "metadata": {
    "collapsed": true
   },
   "outputs": [],
   "source": [
    "%matplotlib inline"
   ]
  },
  {
   "cell_type": "code",
   "execution_count": 3,
   "metadata": {
    "collapsed": false
   },
   "outputs": [
    {
     "name": "stderr",
     "output_type": "stream",
     "text": [
      "C:\\ProgramData\\Anaconda2\\lib\\site-packages\\sklearn\\cross_validation.py:44: DeprecationWarning: This module was deprecated in version 0.18 in favor of the model_selection module into which all the refactored classes and functions are moved. Also note that the interface of the new CV iterators are different from that of this module. This module will be removed in 0.20.\n",
      "  \"This module will be removed in 0.20.\", DeprecationWarning)\n"
     ]
    }
   ],
   "source": [
    "# %load poi_id.py\n",
    "# %%writefile poi_id.py # run this when finished.\n",
    "#!/usr/bin/python\n",
    "\n",
    "import sys\n",
    "import pickle\n",
    "sys.path.append(\"../tools/\")\n",
    "\n",
    "from feature_format import featureFormat, targetFeatureSplit\n",
    "from tester import dump_classifier_and_data\n",
    "\n",
    "# TODO: when finished code from below blocks "
   ]
  },
  {
   "cell_type": "markdown",
   "metadata": {},
   "source": [
    "# Task 1"
   ]
  },
  {
   "cell_type": "markdown",
   "metadata": {},
   "source": [
    "Lets first start with the full set and then decide whish parameters to continue with."
   ]
  },
  {
   "cell_type": "code",
   "execution_count": 4,
   "metadata": {
    "collapsed": false
   },
   "outputs": [
    {
     "name": "stdout",
     "output_type": "stream",
     "text": [
      "['poi', 'salary', 'to_messages', 'deferral_payments', 'total_payments', 'exercised_stock_options', 'bonus', 'restricted_stock', 'shared_receipt_with_poi', 'restricted_stock_deferred', 'total_stock_value', 'expenses', 'loan_advances', 'from_messages', 'other', 'from_this_person_to_poi', 'director_fees', 'deferred_income', 'long_term_incentive', 'from_poi_to_this_person']\n"
     ]
    }
   ],
   "source": [
    "### Task 1: Select what features you'll use.\n",
    "### features_list is a list of strings, each of which is a feature name.\n",
    "### The first feature must be \"poi\".\n",
    "features_list = [\"poi\"] # You will need to use more features\n",
    "\n",
    "### Load the dictionary containing the dataset\n",
    "with open(\"final_project_dataset.pkl\", \"r\") as data_file:\n",
    "    data_dict = pickle.load(data_file)\n",
    "for k,v in data_dict['METTS MARK'].iteritems():\n",
    "    if k not in [\"poi\",\"email_address\"]:\n",
    "        features_list.append(k)\n",
    "print str(features_list)"
   ]
  },
  {
   "cell_type": "markdown",
   "metadata": {},
   "source": [
    "_____________________________\n",
    "There is one value which is not actually a data point but a aggregation entry. It is total row in dataset."
   ]
  },
  {
   "cell_type": "code",
   "execution_count": 5,
   "metadata": {
    "collapsed": false,
    "scrolled": true
   },
   "outputs": [
    {
     "name": "stdout",
     "output_type": "stream",
     "text": [
      "{'salary': 26704229, 'to_messages': 'NaN', 'deferral_payments': 32083396, 'total_payments': 309886585, 'exercised_stock_options': 311764000, 'bonus': 97343619, 'restricted_stock': 130322299, 'shared_receipt_with_poi': 'NaN', 'restricted_stock_deferred': -7576788, 'total_stock_value': 434509511, 'expenses': 5235198, 'loan_advances': 83925000, 'from_messages': 'NaN', 'other': 42667589, 'from_this_person_to_poi': 'NaN', 'poi': False, 'director_fees': 1398517, 'deferred_income': -27992891, 'long_term_incentive': 48521928, 'email_address': 'NaN', 'from_poi_to_this_person': 'NaN'}\n"
     ]
    }
   ],
   "source": [
    "### Task 2: Remove outliers\n",
    "print data_dict['TOTAL']\n",
    "del data_dict['TOTAL']"
   ]
  },
  {
   "cell_type": "markdown",
   "metadata": {},
   "source": [
    "## New Features"
   ]
  },
  {
   "cell_type": "code",
   "execution_count": 6,
   "metadata": {
    "collapsed": false
   },
   "outputs": [
    {
     "data": {
      "text/html": [
       "<div>\n",
       "<table border=\"1\" class=\"dataframe\">\n",
       "  <thead>\n",
       "    <tr style=\"text-align: right;\">\n",
       "      <th></th>\n",
       "      <th>poi</th>\n",
       "      <th>salary</th>\n",
       "      <th>to_messages</th>\n",
       "      <th>deferral_payments</th>\n",
       "      <th>total_payments</th>\n",
       "      <th>exercised_stock_options</th>\n",
       "      <th>bonus</th>\n",
       "      <th>restricted_stock</th>\n",
       "      <th>shared_receipt_with_poi</th>\n",
       "      <th>restricted_stock_deferred</th>\n",
       "      <th>total_stock_value</th>\n",
       "      <th>expenses</th>\n",
       "      <th>loan_advances</th>\n",
       "      <th>from_messages</th>\n",
       "      <th>other</th>\n",
       "      <th>from_this_person_to_poi</th>\n",
       "      <th>director_fees</th>\n",
       "      <th>deferred_income</th>\n",
       "      <th>long_term_incentive</th>\n",
       "      <th>from_poi_to_this_person</th>\n",
       "    </tr>\n",
       "  </thead>\n",
       "  <tbody>\n",
       "    <tr>\n",
       "      <th>ALLEN PHILLIP K</th>\n",
       "      <td>False</td>\n",
       "      <td>201955.0</td>\n",
       "      <td>2902.0</td>\n",
       "      <td>2869717.0</td>\n",
       "      <td>4484442.0</td>\n",
       "      <td>1729541.0</td>\n",
       "      <td>4175000.0</td>\n",
       "      <td>126027.0</td>\n",
       "      <td>1407.0</td>\n",
       "      <td>-126027.0</td>\n",
       "      <td>1729541.0</td>\n",
       "      <td>13868.0</td>\n",
       "      <td>NaN</td>\n",
       "      <td>2195.0</td>\n",
       "      <td>152.0</td>\n",
       "      <td>65.0</td>\n",
       "      <td>NaN</td>\n",
       "      <td>-3081055.0</td>\n",
       "      <td>304805.0</td>\n",
       "      <td>47.0</td>\n",
       "    </tr>\n",
       "    <tr>\n",
       "      <th>BADUM JAMES P</th>\n",
       "      <td>False</td>\n",
       "      <td>NaN</td>\n",
       "      <td>NaN</td>\n",
       "      <td>178980.0</td>\n",
       "      <td>182466.0</td>\n",
       "      <td>257817.0</td>\n",
       "      <td>NaN</td>\n",
       "      <td>NaN</td>\n",
       "      <td>NaN</td>\n",
       "      <td>NaN</td>\n",
       "      <td>257817.0</td>\n",
       "      <td>3486.0</td>\n",
       "      <td>NaN</td>\n",
       "      <td>NaN</td>\n",
       "      <td>NaN</td>\n",
       "      <td>NaN</td>\n",
       "      <td>NaN</td>\n",
       "      <td>NaN</td>\n",
       "      <td>NaN</td>\n",
       "      <td>NaN</td>\n",
       "    </tr>\n",
       "    <tr>\n",
       "      <th>BANNANTINE JAMES M</th>\n",
       "      <td>False</td>\n",
       "      <td>477.0</td>\n",
       "      <td>566.0</td>\n",
       "      <td>NaN</td>\n",
       "      <td>916197.0</td>\n",
       "      <td>4046157.0</td>\n",
       "      <td>NaN</td>\n",
       "      <td>1757552.0</td>\n",
       "      <td>465.0</td>\n",
       "      <td>-560222.0</td>\n",
       "      <td>5243487.0</td>\n",
       "      <td>56301.0</td>\n",
       "      <td>NaN</td>\n",
       "      <td>29.0</td>\n",
       "      <td>864523.0</td>\n",
       "      <td>0.0</td>\n",
       "      <td>NaN</td>\n",
       "      <td>-5104.0</td>\n",
       "      <td>NaN</td>\n",
       "      <td>39.0</td>\n",
       "    </tr>\n",
       "  </tbody>\n",
       "</table>\n",
       "</div>"
      ],
      "text/plain": [
       "                      poi    salary  to_messages  deferral_payments  \\\n",
       "ALLEN PHILLIP K     False  201955.0       2902.0          2869717.0   \n",
       "BADUM JAMES P       False       NaN          NaN           178980.0   \n",
       "BANNANTINE JAMES M  False     477.0        566.0                NaN   \n",
       "\n",
       "                    total_payments  exercised_stock_options      bonus  \\\n",
       "ALLEN PHILLIP K          4484442.0                1729541.0  4175000.0   \n",
       "BADUM JAMES P             182466.0                 257817.0        NaN   \n",
       "BANNANTINE JAMES M        916197.0                4046157.0        NaN   \n",
       "\n",
       "                    restricted_stock  shared_receipt_with_poi  \\\n",
       "ALLEN PHILLIP K             126027.0                   1407.0   \n",
       "BADUM JAMES P                    NaN                      NaN   \n",
       "BANNANTINE JAMES M         1757552.0                    465.0   \n",
       "\n",
       "                    restricted_stock_deferred  total_stock_value  expenses  \\\n",
       "ALLEN PHILLIP K                     -126027.0          1729541.0   13868.0   \n",
       "BADUM JAMES P                             NaN           257817.0    3486.0   \n",
       "BANNANTINE JAMES M                  -560222.0          5243487.0   56301.0   \n",
       "\n",
       "                    loan_advances  from_messages     other  \\\n",
       "ALLEN PHILLIP K               NaN         2195.0     152.0   \n",
       "BADUM JAMES P                 NaN            NaN       NaN   \n",
       "BANNANTINE JAMES M            NaN           29.0  864523.0   \n",
       "\n",
       "                    from_this_person_to_poi  director_fees  deferred_income  \\\n",
       "ALLEN PHILLIP K                        65.0            NaN       -3081055.0   \n",
       "BADUM JAMES P                           NaN            NaN              NaN   \n",
       "BANNANTINE JAMES M                      0.0            NaN          -5104.0   \n",
       "\n",
       "                    long_term_incentive  from_poi_to_this_person  \n",
       "ALLEN PHILLIP K                304805.0                     47.0  \n",
       "BADUM JAMES P                       NaN                      NaN  \n",
       "BANNANTINE JAMES M                  NaN                     39.0  "
      ]
     },
     "execution_count": 6,
     "metadata": {},
     "output_type": "execute_result"
    }
   ],
   "source": [
    "df = pd.DataFrame(data_dict).transpose()[features_list]\n",
    "df = df.replace('NaN', np.nan, regex=True)\n",
    "def is_NaN(x):\n",
    "    return x == 'NaN'\n",
    "df.head(3)"
   ]
  },
  {
   "cell_type": "code",
   "execution_count": null,
   "metadata": {
    "collapsed": true
   },
   "outputs": [],
   "source": []
  },
  {
   "cell_type": "code",
   "execution_count": 7,
   "metadata": {
    "collapsed": false
   },
   "outputs": [
    {
     "data": {
      "text/html": [
       "<div>\n",
       "<table border=\"1\" class=\"dataframe\">\n",
       "  <thead>\n",
       "    <tr style=\"text-align: right;\">\n",
       "      <th></th>\n",
       "      <th>salary</th>\n",
       "      <th>to_messages</th>\n",
       "      <th>deferral_payments</th>\n",
       "      <th>total_payments</th>\n",
       "      <th>exercised_stock_options</th>\n",
       "      <th>bonus</th>\n",
       "      <th>restricted_stock</th>\n",
       "      <th>shared_receipt_with_poi</th>\n",
       "      <th>restricted_stock_deferred</th>\n",
       "      <th>total_stock_value</th>\n",
       "      <th>expenses</th>\n",
       "      <th>loan_advances</th>\n",
       "      <th>from_messages</th>\n",
       "      <th>other</th>\n",
       "      <th>from_this_person_to_poi</th>\n",
       "      <th>director_fees</th>\n",
       "      <th>deferred_income</th>\n",
       "      <th>long_term_incentive</th>\n",
       "      <th>from_poi_to_this_person</th>\n",
       "    </tr>\n",
       "  </thead>\n",
       "  <tbody>\n",
       "    <tr>\n",
       "      <th>count</th>\n",
       "      <td>9.400000e+01</td>\n",
       "      <td>86.000000</td>\n",
       "      <td>3.800000e+01</td>\n",
       "      <td>1.240000e+02</td>\n",
       "      <td>1.010000e+02</td>\n",
       "      <td>8.100000e+01</td>\n",
       "      <td>1.090000e+02</td>\n",
       "      <td>86.000000</td>\n",
       "      <td>1.700000e+01</td>\n",
       "      <td>1.250000e+02</td>\n",
       "      <td>94.000000</td>\n",
       "      <td>3.000000e+00</td>\n",
       "      <td>86.000000</td>\n",
       "      <td>9.200000e+01</td>\n",
       "      <td>86.000000</td>\n",
       "      <td>16.000000</td>\n",
       "      <td>4.800000e+01</td>\n",
       "      <td>6.500000e+01</td>\n",
       "      <td>86.000000</td>\n",
       "    </tr>\n",
       "    <tr>\n",
       "      <th>mean</th>\n",
       "      <td>2.840875e+05</td>\n",
       "      <td>2073.860465</td>\n",
       "      <td>8.416025e+05</td>\n",
       "      <td>2.623421e+06</td>\n",
       "      <td>2.959559e+06</td>\n",
       "      <td>1.201773e+06</td>\n",
       "      <td>1.147424e+06</td>\n",
       "      <td>1176.465116</td>\n",
       "      <td>6.218928e+05</td>\n",
       "      <td>3.352073e+06</td>\n",
       "      <td>54192.010638</td>\n",
       "      <td>2.797500e+07</td>\n",
       "      <td>608.790698</td>\n",
       "      <td>4.652767e+05</td>\n",
       "      <td>41.232558</td>\n",
       "      <td>89822.875000</td>\n",
       "      <td>-5.810498e+05</td>\n",
       "      <td>7.464912e+05</td>\n",
       "      <td>64.895349</td>\n",
       "    </tr>\n",
       "    <tr>\n",
       "      <th>std</th>\n",
       "      <td>1.771311e+05</td>\n",
       "      <td>2582.700981</td>\n",
       "      <td>1.289323e+06</td>\n",
       "      <td>9.488106e+06</td>\n",
       "      <td>5.499450e+06</td>\n",
       "      <td>1.441679e+06</td>\n",
       "      <td>2.249770e+06</td>\n",
       "      <td>1178.317641</td>\n",
       "      <td>3.845528e+06</td>\n",
       "      <td>6.532883e+06</td>\n",
       "      <td>46108.377454</td>\n",
       "      <td>4.638256e+07</td>\n",
       "      <td>1841.033949</td>\n",
       "      <td>1.389719e+06</td>\n",
       "      <td>100.073111</td>\n",
       "      <td>41112.700735</td>\n",
       "      <td>9.420764e+05</td>\n",
       "      <td>8.629174e+05</td>\n",
       "      <td>86.979244</td>\n",
       "    </tr>\n",
       "    <tr>\n",
       "      <th>min</th>\n",
       "      <td>4.770000e+02</td>\n",
       "      <td>57.000000</td>\n",
       "      <td>-1.025000e+05</td>\n",
       "      <td>1.480000e+02</td>\n",
       "      <td>3.285000e+03</td>\n",
       "      <td>7.000000e+04</td>\n",
       "      <td>-2.604490e+06</td>\n",
       "      <td>2.000000</td>\n",
       "      <td>-1.787380e+06</td>\n",
       "      <td>-4.409300e+04</td>\n",
       "      <td>148.000000</td>\n",
       "      <td>4.000000e+05</td>\n",
       "      <td>12.000000</td>\n",
       "      <td>2.000000e+00</td>\n",
       "      <td>0.000000</td>\n",
       "      <td>3285.000000</td>\n",
       "      <td>-3.504386e+06</td>\n",
       "      <td>6.922300e+04</td>\n",
       "      <td>0.000000</td>\n",
       "    </tr>\n",
       "    <tr>\n",
       "      <th>25%</th>\n",
       "      <td>2.118020e+05</td>\n",
       "      <td>541.250000</td>\n",
       "      <td>7.964450e+04</td>\n",
       "      <td>3.863802e+05</td>\n",
       "      <td>5.067650e+05</td>\n",
       "      <td>4.250000e+05</td>\n",
       "      <td>2.520550e+05</td>\n",
       "      <td>249.750000</td>\n",
       "      <td>-3.298250e+05</td>\n",
       "      <td>4.941360e+05</td>\n",
       "      <td>22479.000000</td>\n",
       "      <td>1.200000e+06</td>\n",
       "      <td>22.750000</td>\n",
       "      <td>1.209000e+03</td>\n",
       "      <td>1.000000</td>\n",
       "      <td>83674.500000</td>\n",
       "      <td>-6.112092e+05</td>\n",
       "      <td>2.750000e+05</td>\n",
       "      <td>10.000000</td>\n",
       "    </tr>\n",
       "    <tr>\n",
       "      <th>50%</th>\n",
       "      <td>2.587410e+05</td>\n",
       "      <td>1211.000000</td>\n",
       "      <td>2.210635e+05</td>\n",
       "      <td>1.100246e+06</td>\n",
       "      <td>1.297049e+06</td>\n",
       "      <td>7.500000e+05</td>\n",
       "      <td>4.410960e+05</td>\n",
       "      <td>740.500000</td>\n",
       "      <td>-1.402640e+05</td>\n",
       "      <td>1.095040e+06</td>\n",
       "      <td>46547.500000</td>\n",
       "      <td>2.000000e+06</td>\n",
       "      <td>41.000000</td>\n",
       "      <td>5.198450e+04</td>\n",
       "      <td>8.000000</td>\n",
       "      <td>106164.500000</td>\n",
       "      <td>-1.519270e+05</td>\n",
       "      <td>4.221580e+05</td>\n",
       "      <td>35.000000</td>\n",
       "    </tr>\n",
       "    <tr>\n",
       "      <th>75%</th>\n",
       "      <td>3.086065e+05</td>\n",
       "      <td>2634.750000</td>\n",
       "      <td>8.672112e+05</td>\n",
       "      <td>2.084663e+06</td>\n",
       "      <td>2.542813e+06</td>\n",
       "      <td>1.200000e+06</td>\n",
       "      <td>9.850320e+05</td>\n",
       "      <td>1888.250000</td>\n",
       "      <td>-7.241900e+04</td>\n",
       "      <td>2.606763e+06</td>\n",
       "      <td>78408.500000</td>\n",
       "      <td>4.176250e+07</td>\n",
       "      <td>145.500000</td>\n",
       "      <td>3.575772e+05</td>\n",
       "      <td>24.750000</td>\n",
       "      <td>112815.000000</td>\n",
       "      <td>-3.792600e+04</td>\n",
       "      <td>8.318090e+05</td>\n",
       "      <td>72.250000</td>\n",
       "    </tr>\n",
       "    <tr>\n",
       "      <th>max</th>\n",
       "      <td>1.111258e+06</td>\n",
       "      <td>15149.000000</td>\n",
       "      <td>6.426990e+06</td>\n",
       "      <td>1.035598e+08</td>\n",
       "      <td>3.434838e+07</td>\n",
       "      <td>8.000000e+06</td>\n",
       "      <td>1.476169e+07</td>\n",
       "      <td>5521.000000</td>\n",
       "      <td>1.545629e+07</td>\n",
       "      <td>4.911008e+07</td>\n",
       "      <td>228763.000000</td>\n",
       "      <td>8.152500e+07</td>\n",
       "      <td>14368.000000</td>\n",
       "      <td>1.035973e+07</td>\n",
       "      <td>609.000000</td>\n",
       "      <td>137864.000000</td>\n",
       "      <td>-8.330000e+02</td>\n",
       "      <td>5.145434e+06</td>\n",
       "      <td>528.000000</td>\n",
       "    </tr>\n",
       "  </tbody>\n",
       "</table>\n",
       "</div>"
      ],
      "text/plain": [
       "             salary   to_messages  deferral_payments  total_payments  \\\n",
       "count  9.400000e+01     86.000000       3.800000e+01    1.240000e+02   \n",
       "mean   2.840875e+05   2073.860465       8.416025e+05    2.623421e+06   \n",
       "std    1.771311e+05   2582.700981       1.289323e+06    9.488106e+06   \n",
       "min    4.770000e+02     57.000000      -1.025000e+05    1.480000e+02   \n",
       "25%    2.118020e+05    541.250000       7.964450e+04    3.863802e+05   \n",
       "50%    2.587410e+05   1211.000000       2.210635e+05    1.100246e+06   \n",
       "75%    3.086065e+05   2634.750000       8.672112e+05    2.084663e+06   \n",
       "max    1.111258e+06  15149.000000       6.426990e+06    1.035598e+08   \n",
       "\n",
       "       exercised_stock_options         bonus  restricted_stock  \\\n",
       "count             1.010000e+02  8.100000e+01      1.090000e+02   \n",
       "mean              2.959559e+06  1.201773e+06      1.147424e+06   \n",
       "std               5.499450e+06  1.441679e+06      2.249770e+06   \n",
       "min               3.285000e+03  7.000000e+04     -2.604490e+06   \n",
       "25%               5.067650e+05  4.250000e+05      2.520550e+05   \n",
       "50%               1.297049e+06  7.500000e+05      4.410960e+05   \n",
       "75%               2.542813e+06  1.200000e+06      9.850320e+05   \n",
       "max               3.434838e+07  8.000000e+06      1.476169e+07   \n",
       "\n",
       "       shared_receipt_with_poi  restricted_stock_deferred  total_stock_value  \\\n",
       "count                86.000000               1.700000e+01       1.250000e+02   \n",
       "mean               1176.465116               6.218928e+05       3.352073e+06   \n",
       "std                1178.317641               3.845528e+06       6.532883e+06   \n",
       "min                   2.000000              -1.787380e+06      -4.409300e+04   \n",
       "25%                 249.750000              -3.298250e+05       4.941360e+05   \n",
       "50%                 740.500000              -1.402640e+05       1.095040e+06   \n",
       "75%                1888.250000              -7.241900e+04       2.606763e+06   \n",
       "max                5521.000000               1.545629e+07       4.911008e+07   \n",
       "\n",
       "            expenses  loan_advances  from_messages         other  \\\n",
       "count      94.000000   3.000000e+00      86.000000  9.200000e+01   \n",
       "mean    54192.010638   2.797500e+07     608.790698  4.652767e+05   \n",
       "std     46108.377454   4.638256e+07    1841.033949  1.389719e+06   \n",
       "min       148.000000   4.000000e+05      12.000000  2.000000e+00   \n",
       "25%     22479.000000   1.200000e+06      22.750000  1.209000e+03   \n",
       "50%     46547.500000   2.000000e+06      41.000000  5.198450e+04   \n",
       "75%     78408.500000   4.176250e+07     145.500000  3.575772e+05   \n",
       "max    228763.000000   8.152500e+07   14368.000000  1.035973e+07   \n",
       "\n",
       "       from_this_person_to_poi  director_fees  deferred_income  \\\n",
       "count                86.000000      16.000000     4.800000e+01   \n",
       "mean                 41.232558   89822.875000    -5.810498e+05   \n",
       "std                 100.073111   41112.700735     9.420764e+05   \n",
       "min                   0.000000    3285.000000    -3.504386e+06   \n",
       "25%                   1.000000   83674.500000    -6.112092e+05   \n",
       "50%                   8.000000  106164.500000    -1.519270e+05   \n",
       "75%                  24.750000  112815.000000    -3.792600e+04   \n",
       "max                 609.000000  137864.000000    -8.330000e+02   \n",
       "\n",
       "       long_term_incentive  from_poi_to_this_person  \n",
       "count         6.500000e+01                86.000000  \n",
       "mean          7.464912e+05                64.895349  \n",
       "std           8.629174e+05                86.979244  \n",
       "min           6.922300e+04                 0.000000  \n",
       "25%           2.750000e+05                10.000000  \n",
       "50%           4.221580e+05                35.000000  \n",
       "75%           8.318090e+05                72.250000  \n",
       "max           5.145434e+06               528.000000  "
      ]
     },
     "execution_count": 7,
     "metadata": {},
     "output_type": "execute_result"
    }
   ],
   "source": [
    "df[features_list[1:]].describe()"
   ]
  },
  {
   "cell_type": "code",
   "execution_count": 8,
   "metadata": {
    "collapsed": false
   },
   "outputs": [
    {
     "data": {
      "text/plain": [
       "<matplotlib.figure.Figure at 0xe0bf2e8>"
      ]
     },
     "metadata": {},
     "output_type": "display_data"
    }
   ],
   "source": [
    "plt.figure(figsize=(12, 10))\n",
    "corr = df.corr()"
   ]
  },
  {
   "cell_type": "markdown",
   "metadata": {
    "collapsed": false,
    "scrolled": true
   },
   "source": [
    "sns.heatmap(abs(corr), \n",
    "            xticklabels=corr.columns.values,\n",
    "            yticklabels=corr.columns.values)"
   ]
  },
  {
   "cell_type": "markdown",
   "metadata": {
    "collapsed": false,
    "scrolled": true
   },
   "source": [
    "def map_(x):\n",
    "    if abs(x)>0.9:\n",
    "        return x\n",
    "    return 0\n",
    "plt.figure(figsize=(12, 10))\n",
    "sns.heatmap(abs(corr.applymap(map_)), \n",
    "            xticklabels=corr.columns.values,\n",
    "            yticklabels=corr.columns.values)"
   ]
  },
  {
   "cell_type": "code",
   "execution_count": 9,
   "metadata": {
    "collapsed": false,
    "scrolled": true
   },
   "outputs": [
    {
     "data": {
      "text/plain": [
       "<matplotlib.axes._subplots.AxesSubplot at 0xe0dd358>"
      ]
     },
     "execution_count": 9,
     "metadata": {},
     "output_type": "execute_result"
    },
    {
     "data": {
      "image/png": "[encoded data removed]",
      "text/plain": [
       "<matplotlib.figure.Figure at 0xdfec550>"
      ]
     },
     "metadata": {},
     "output_type": "display_data"
    }
   ],
   "source": [
    "def map_(x):\n",
    "    if abs(x)==1:\n",
    "        return 0\n",
    "    elif abs(x)>0.9:\n",
    "        return x\n",
    "    return 0\n",
    "plt.figure(figsize=(12, 10))\n",
    "sns.heatmap(abs(corr.applymap(map_)), \n",
    "            xticklabels=corr.columns.values,\n",
    "            yticklabels=corr.columns.values)"
   ]
  },
  {
   "cell_type": "code",
   "execution_count": 10,
   "metadata": {
    "collapsed": true
   },
   "outputs": [],
   "source": [
    "def extract_parameters_by_correlation(corr, min_corr, depth, selections):\n",
    "    features = corr.columns.values.tolist()\n",
    "    new_selections = []\n",
    "    for sel in selections:\n",
    "        for f in features:\n",
    "            if (sel != f) and (f not in selections+new_selections) and (f in corr) and (abs(corr[sel][f]) > min_corr):\n",
    "                new_selections.append(f)\n",
    "    selections = selections+new_selections\n",
    "    if depth < 1:\n",
    "        return selections\n",
    "    else:\n",
    "        return extract_parameters_by_correlation(corr, min_corr, depth-1, selections)"
   ]
  },
  {
   "cell_type": "code",
   "execution_count": 11,
   "metadata": {
    "collapsed": false
   },
   "outputs": [
    {
     "data": {
      "text/plain": [
       "['poi',\n",
       " 'loan_advances',\n",
       " 'deferral_payments',\n",
       " 'total_payments',\n",
       " 'exercised_stock_options',\n",
       " 'bonus',\n",
       " 'restricted_stock',\n",
       " 'total_stock_value',\n",
       " 'other',\n",
       " 'from_this_person_to_poi',\n",
       " 'deferred_income',\n",
       " 'long_term_incentive']"
      ]
     },
     "execution_count": 11,
     "metadata": {},
     "output_type": "execute_result"
    }
   ],
   "source": [
    "primary_components = extract_parameters_by_correlation(corr, 0.9,1, [\"poi\"])\n",
    "primary_components"
   ]
  },
  {
   "cell_type": "code",
   "execution_count": 12,
   "metadata": {
    "collapsed": true
   },
   "outputs": [],
   "source": [
    "# remove NaNs from train data:\n",
    "def clean_train_data(features):\n",
    "    for line in features:\n",
    "        for i,v in enumerate(line):\n",
    "            if np.isnan(v):\n",
    "                line[i] = -1.0\n",
    "    return features"
   ]
  },
  {
   "cell_type": "code",
   "execution_count": 13,
   "metadata": {
    "collapsed": true
   },
   "outputs": [],
   "source": [
    "def predict_na_values(df, column):\n",
    "    print(\"Predicting missing values for {}.\".format(column)) \n",
    "    columns = df.columns.values.tolist()\n",
    "    columns.remove(column)\n",
    "    # do not translate poi info into missing variables\n",
    "    columns.remove(\"poi\")\n",
    "    ok = df[df[column].notnull()]\n",
    "    ok_features = clean_train_data(ok[columns].values.tolist())\n",
    "    ok_labels = ok[column].values.tolist()\n",
    "    nok = df[df[column].isnull()]\n",
    "    if len(nok)<1:\n",
    "        print(\"No missing values for {}!\".format(column))\n",
    "        return\n",
    "    clf_g = GaussianNB()\n",
    "    clf_g.fit(ok_features,ok_labels)\n",
    "    nok_features = clean_train_data(nok[columns].values.tolist())\n",
    "    pred = clf_g.predict(nok_features)\n",
    "    df.loc[nok.index,column] = pred"
   ]
  },
  {
   "cell_type": "code",
   "execution_count": 14,
   "metadata": {
    "collapsed": false,
    "scrolled": true
   },
   "outputs": [
    {
     "name": "stdout",
     "output_type": "stream",
     "text": [
      "Predicting missing values for salary.\n",
      "Predicting missing values for to_messages.\n",
      "Predicting missing values for deferral_payments.\n",
      "Predicting missing values for total_payments.\n",
      "Predicting missing values for exercised_stock_options.\n",
      "Predicting missing values for bonus.\n",
      "Predicting missing values for restricted_stock.\n",
      "Predicting missing values for shared_receipt_with_poi.\n",
      "Predicting missing values for restricted_stock_deferred.\n",
      "Predicting missing values for total_stock_value.\n",
      "Predicting missing values for expenses.\n",
      "Predicting missing values for loan_advances.\n",
      "Predicting missing values for from_messages.\n",
      "Predicting missing values for other.\n",
      "Predicting missing values for from_this_person_to_poi.\n",
      "Predicting missing values for director_fees.\n",
      "Predicting missing values for deferred_income.\n",
      "Predicting missing values for long_term_incentive.\n",
      "Predicting missing values for from_poi_to_this_person.\n"
     ]
    }
   ],
   "source": [
    "### Fill missing fields with predictions\n",
    "for column in df.columns.values.tolist():\n",
    "    ## Do not predict poi \n",
    "    if column != \"poi\":\n",
    "        predict_na_values(df, column)"
   ]
  },
  {
   "cell_type": "code",
   "execution_count": 15,
   "metadata": {
    "collapsed": false,
    "scrolled": true
   },
   "outputs": [],
   "source": [
    "### Task 3: Create new feature(s)\n",
    "### Store to my_dataset for easy export below.\n",
    "\n",
    "# Create new feaures\n",
    "df['from_poi_ratio'] = df['from_poi_to_this_person']/df['to_messages']\n",
    "df['to_poi_ratio'] = df['from_this_person_to_poi']/df['from_messages']\n",
    "\n",
    "my_dataset = df.to_dict(orient='index')\n",
    "final_feature_list = primary_components+['from_poi_ratio','to_poi_ratio']\n",
    "#final_feature_list = features_list + ['from_poi_ratio', 'to_poi_ratio']\n",
    "\n",
    "## parameters weigths extracted from full set\n",
    "#final_feature_list = [\"poi\",\"from_poi_ratio\",\"total_stock_value\",\"bonus\",\"shared_receipt_with_poi\",\"to_messages\",\"restricted_stock\"]\n",
    "### Extract features and labels from dataset for local testing\n",
    "data = featureFormat(my_dataset, final_feature_list, sort_keys = True)\n",
    "labels, features = targetFeatureSplit(data)"
   ]
  },
  {
   "cell_type": "code",
   "execution_count": 16,
   "metadata": {
    "collapsed": false
   },
   "outputs": [],
   "source": [
    "### Task 4: Try a varity of classifiers\n",
    "### Please name your classifier clf for easy export below.\n",
    "### Note that if you want to do PCA or other multi-stage operations,\n",
    "### you'll need to use Pipelines. For more info:\n",
    "### http://scikit-learn.org/stable/modules/pipeline.html\n",
    "\n",
    "# Provided to give you a starting point. Try a variety of classifiers.\n",
    "clf_g = GaussianNB()"
   ]
  },
  {
   "cell_type": "code",
   "execution_count": 17,
   "metadata": {
    "collapsed": true
   },
   "outputs": [],
   "source": [
    "from sklearn.linear_model import LinearRegression\n",
    "clf_ln = LinearRegression()"
   ]
  },
  {
   "cell_type": "code",
   "execution_count": 18,
   "metadata": {
    "collapsed": false
   },
   "outputs": [],
   "source": [
    "opts_l = {\n",
    "    \"alpha\":[0.6,0.85,0.95,1.0],\n",
    "    \"fit_intercept\":[True,False]\n",
    "}\n",
    "clf_l = GridSearchCV(Lasso(), opts_l)\n",
    "#regression.fit(features, labels)\n",
    "#pd.DataFrame(zip(features_list_,regression.coef_),columns=[\"name\",\"coef\"]).sort(['coef','name'], ascending=[0,1])"
   ]
  },
  {
   "cell_type": "code",
   "execution_count": 19,
   "metadata": {
    "collapsed": true
   },
   "outputs": [],
   "source": [
    "from sklearn import svm\n",
    "opts_s = {\n",
    "    \"C\":[0.1,1.0,10.0],\n",
    "    #\"kernel\":[\"linear\", \"poly\", \"rbf\"]\n",
    "}\n",
    "clf_s = GridSearchCV(svm.SVC(),opts_s)"
   ]
  },
  {
   "cell_type": "code",
   "execution_count": 20,
   "metadata": {
    "collapsed": false
   },
   "outputs": [],
   "source": [
    "opts_t = {\n",
    "    \"criterion\":[\"gini\",\"entropy\"],\n",
    "    \"min_samples_leaf\":[1,2,5],\n",
    "    \"min_samples_split\":[2,4,10]\n",
    "}\n",
    "clf_t = GridSearchCV(DecisionTreeClassifier(random_state=42), opts_t)"
   ]
  },
  {
   "cell_type": "code",
   "execution_count": 21,
   "metadata": {
    "collapsed": false
   },
   "outputs": [],
   "source": [
    "opts_f = {\n",
    "    \"criterion\":[\"gini\",\"entropy\"],\n",
    "    \"n_estimators\":[5,10,30,100,200],\n",
    "    \"min_samples_leaf\":[1,2,5],\n",
    "    \"min_samples_split\":[2,4,10]\n",
    "}\n",
    "clf_f = GridSearchCV(RandomForestClassifier(random_state = 42), opts_f)\n",
    "#print(\"Accuracy: {:.2f}% {}\".format(model_predictor(clf)*100, (k+1)*5))"
   ]
  },
  {
   "cell_type": "code",
   "execution_count": 22,
   "metadata": {
    "collapsed": true
   },
   "outputs": [],
   "source": [
    "### Task 5: Tune your classifier to achieve better than .3 precision and recall \n",
    "### using our testing script. Check the tester.py script in the final project\n",
    "### folder for details on the evaluation method, especially the test_classifier\n",
    "### function. Because of the small size of the dataset, the script uses\n",
    "### stratified shuffle split cross validation. For more info: \n",
    "### http://scikit-learn.org/stable/modules/generated/sklearn.cross_validation.StratifiedShuffleSplit.html\n",
    "\n",
    "\n",
    "# Example starting point. Try investigating other evaluation techniques!\n",
    "from sklearn.model_selection  import train_test_split\n",
    "features_train, features_test, labels_train, labels_test = \\\n",
    "    train_test_split(features, labels, test_size=0.3, random_state=42)"
   ]
  },
  {
   "cell_type": "code",
   "execution_count": 23,
   "metadata": {
    "collapsed": false,
    "scrolled": true
   },
   "outputs": [
    {
     "data": {
      "text/plain": [
       "[array([  2.00000000e+06,   1.02590000e+04,   9.10930000e+04,\n",
       "          3.07660640e+07,   1.00000000e+06,   1.26027000e+05,\n",
       "          3.07660640e+07,   2.85600000e+03,   4.00000000e+00,\n",
       "         -3.00000000e+05,   1.61701100e+06,   4.64088398e-02,\n",
       "          1.11111111e-01]),\n",
       " array([  4.00000000e+05,   7.31220000e+04,   1.10139300e+06,\n",
       "          1.17551000e+05,   8.00000000e+05,   3.78082000e+05,\n",
       "          4.95633000e+05,   4.94000000e+02,   4.00000000e+00,\n",
       "         -4.12500000e+04,   1.75000000e+05,   0.00000000e+00,\n",
       "          1.21212121e-01])]"
      ]
     },
     "execution_count": 23,
     "metadata": {},
     "output_type": "execute_result"
    }
   ],
   "source": [
    "features_train[0:2]"
   ]
  },
  {
   "cell_type": "code",
   "execution_count": 24,
   "metadata": {
    "collapsed": false,
    "scrolled": true
   },
   "outputs": [
    {
     "data": {
      "text/plain": [
       "[1.0, 0.0]"
      ]
     },
     "execution_count": 24,
     "metadata": {},
     "output_type": "execute_result"
    }
   ],
   "source": [
    "labels_train[0:2]"
   ]
  },
  {
   "cell_type": "markdown",
   "metadata": {
    "collapsed": false
   },
   "source": [
    "selector = SelectKBest(chi2,k=10)\n",
    "selector.fit(features_train, labels_train)"
   ]
  },
  {
   "cell_type": "code",
   "execution_count": 25,
   "metadata": {
    "collapsed": true
   },
   "outputs": [],
   "source": [
    "models = [\n",
    "    {\"name\":\"GaussianNB\",\"predictor\":clf_g},\n",
    "    {\"name\":\"Linear Regression\",\"predictor\":clf_ln},\n",
    "    {\"name\":\"Lasso\",\"predictor\":clf_l},\n",
    "    {\"name\":\"SVC\",\"predictor\":clf_s},\n",
    "    {\"name\":\"DecisionTreeClassifier\",\"predictor\":clf_t},\n",
    "    {\"name\":\"RandomForestClassifier\",\"predictor\":clf_f}\n",
    "]"
   ]
  },
  {
   "cell_type": "markdown",
   "metadata": {},
   "source": [
    "### Scores for Linear Models:"
   ]
  },
  {
   "cell_type": "markdown",
   "metadata": {
    "collapsed": false
   },
   "source": [
    "clf_g.fit(features_train, labels_train)\n",
    "clf_ln.fit(features_train, labels_train)\n",
    "print \"GaussianNB score:  {}\".format(clf_g.score(features_test, labels_test))\n",
    "print \"Linear Regression score:  {}\".format(clf_ln.score(features_test, labels_test))"
   ]
  },
  {
   "cell_type": "markdown",
   "metadata": {},
   "source": [
    "### Scores for Other Models w/ Grid Search:"
   ]
  },
  {
   "cell_type": "code",
   "execution_count": 26,
   "metadata": {
    "collapsed": true
   },
   "outputs": [],
   "source": [
    "def round_pred(x):\n",
    "    if x>=0.5:\n",
    "        return 1.0\n",
    "    return 0.0"
   ]
  },
  {
   "cell_type": "code",
   "execution_count": 27,
   "metadata": {
    "collapsed": true
   },
   "outputs": [],
   "source": [
    "def get_scores(predictions,truth):\n",
    "    true_negatives = 0\n",
    "    false_negatives = 0\n",
    "    false_positives = 0\n",
    "    true_positives = 0\n",
    "    for prediction, truth in zip(predictions, labels_test):\n",
    "        p_int = round_pred(prediction)\n",
    "        if p_int == 0 and truth == 0:\n",
    "            true_negatives += 1\n",
    "        elif p_int == 0 and truth == 1:\n",
    "            false_negatives += 1\n",
    "        elif p_int == 1 and truth == 0:\n",
    "            false_positives += 1\n",
    "        elif p_int == 1 and truth == 1:\n",
    "            true_positives += 1\n",
    "        else:\n",
    "            print \"Warning: Found a predicted label not == 0 or 1. value:{}\".format(str(prediction))\n",
    "    total_predictions = true_negatives + false_negatives + false_positives + true_positives\n",
    "    accuracy = 1.0*(true_positives + true_negatives)/total_predictions\n",
    "    precision = 1.0*true_positives/(true_positives+false_positives+0.000001)\n",
    "    recall = 1.0*true_positives/(true_positives+false_negatives+0.000001)\n",
    "    f1 = 2.0 * true_positives/(2*true_positives + false_positives+false_negatives+0.000001)\n",
    "    f2 = (1+2.0*2.0) * precision*recall/(4*precision + recall+0.000001)\n",
    "    return [accuracy, precision, recall, f1, f2]"
   ]
  },
  {
   "cell_type": "code",
   "execution_count": 28,
   "metadata": {
    "collapsed": true
   },
   "outputs": [],
   "source": [
    "def model_predictor(classifier):\n",
    "    classifier.fit(features_train, labels_train)\n",
    "    y_pred = classifier.predict(features_test)\n",
    "    accuracy, precision, recall, f1, f2 = get_scores(y_pred,labels_test)\n",
    "    return [accuracy, precision, recall, f1, f2]"
   ]
  },
  {
   "cell_type": "code",
   "execution_count": 29,
   "metadata": {
    "collapsed": false
   },
   "outputs": [],
   "source": [
    "def run_predictors():\n",
    "    params = {}\n",
    "    scores = []\n",
    "    for predictor in models:\n",
    "        accuracy, precision, recall, f1, f2 = model_predictor(predictor[\"predictor\"])\n",
    "        scores.append([predictor[\"name\"], accuracy, precision, recall, f1, f2])\n",
    "        # print(\"{} accuracy: {:.2f}, precision: {:.2f}, recall: {:.2f}, F1: {:.2f}, F2: {:.2f}\".format(predictor[\"name\"], accuracy, precision, recall, f1, f2))\n",
    "        if hasattr(predictor[\"predictor\"],\"best_estimator_\"):\n",
    "            params[predictor[\"name\"]] = predictor[\"predictor\"].best_estimator_\n",
    "        else:\n",
    "            params[predictor[\"name\"]] = predictor[\"predictor\"]\n",
    "        score_table = pd.DataFrame(scores, columns=[\"Classifier\", \"Accuracy\", \"Precision\", \"Recall\", \"F1 Score\", \"F2 Score\"])\n",
    "    return params, score_table"
   ]
  },
  {
   "cell_type": "code",
   "execution_count": 30,
   "metadata": {
    "collapsed": false
   },
   "outputs": [
    {
     "name": "stderr",
     "output_type": "stream",
     "text": [
      "C:\\ProgramData\\Anaconda2\\lib\\site-packages\\sklearn\\linear_model\\coordinate_descent.py:484: ConvergenceWarning: Objective did not converge. You might want to increase the number of iterations. Fitting data with very small alpha may cause precision problems.\n",
      "  ConvergenceWarning)\n"
     ]
    },
    {
     "data": {
      "text/html": [
       "<div>\n",
       "<table border=\"1\" class=\"dataframe\">\n",
       "  <thead>\n",
       "    <tr style=\"text-align: right;\">\n",
       "      <th></th>\n",
       "      <th>Classifier</th>\n",
       "      <th>Accuracy</th>\n",
       "      <th>Precision</th>\n",
       "      <th>Recall</th>\n",
       "      <th>F1 Score</th>\n",
       "      <th>F2 Score</th>\n",
       "    </tr>\n",
       "  </thead>\n",
       "  <tbody>\n",
       "    <tr>\n",
       "      <th>0</th>\n",
       "      <td>GaussianNB</td>\n",
       "      <td>0.863636</td>\n",
       "      <td>0.250000</td>\n",
       "      <td>0.25</td>\n",
       "      <td>0.250000</td>\n",
       "      <td>0.250000</td>\n",
       "    </tr>\n",
       "    <tr>\n",
       "      <th>1</th>\n",
       "      <td>Linear Regression</td>\n",
       "      <td>0.886364</td>\n",
       "      <td>0.333333</td>\n",
       "      <td>0.25</td>\n",
       "      <td>0.285714</td>\n",
       "      <td>0.263158</td>\n",
       "    </tr>\n",
       "    <tr>\n",
       "      <th>2</th>\n",
       "      <td>Lasso</td>\n",
       "      <td>0.909091</td>\n",
       "      <td>0.500000</td>\n",
       "      <td>0.25</td>\n",
       "      <td>0.333333</td>\n",
       "      <td>0.277778</td>\n",
       "    </tr>\n",
       "    <tr>\n",
       "      <th>3</th>\n",
       "      <td>SVC</td>\n",
       "      <td>0.909091</td>\n",
       "      <td>0.000000</td>\n",
       "      <td>0.00</td>\n",
       "      <td>0.000000</td>\n",
       "      <td>0.000000</td>\n",
       "    </tr>\n",
       "    <tr>\n",
       "      <th>4</th>\n",
       "      <td>DecisionTreeClassifier</td>\n",
       "      <td>0.954545</td>\n",
       "      <td>1.000000</td>\n",
       "      <td>0.50</td>\n",
       "      <td>0.666667</td>\n",
       "      <td>0.555555</td>\n",
       "    </tr>\n",
       "    <tr>\n",
       "      <th>5</th>\n",
       "      <td>RandomForestClassifier</td>\n",
       "      <td>0.931818</td>\n",
       "      <td>0.999999</td>\n",
       "      <td>0.25</td>\n",
       "      <td>0.400000</td>\n",
       "      <td>0.294117</td>\n",
       "    </tr>\n",
       "  </tbody>\n",
       "</table>\n",
       "</div>"
      ],
      "text/plain": [
       "               Classifier  Accuracy  Precision  Recall  F1 Score  F2 Score\n",
       "0              GaussianNB  0.863636   0.250000    0.25  0.250000  0.250000\n",
       "1       Linear Regression  0.886364   0.333333    0.25  0.285714  0.263158\n",
       "2                   Lasso  0.909091   0.500000    0.25  0.333333  0.277778\n",
       "3                     SVC  0.909091   0.000000    0.00  0.000000  0.000000\n",
       "4  DecisionTreeClassifier  0.954545   1.000000    0.50  0.666667  0.555555\n",
       "5  RandomForestClassifier  0.931818   0.999999    0.25  0.400000  0.294117"
      ]
     },
     "execution_count": 30,
     "metadata": {},
     "output_type": "execute_result"
    }
   ],
   "source": [
    "params, score_table = run_predictors()\n",
    "score_table"
   ]
  },
  {
   "cell_type": "code",
   "execution_count": 31,
   "metadata": {
    "collapsed": false
   },
   "outputs": [],
   "source": [
    "def pandas_df_to_markdown_table(df):\n",
    "    from IPython.display import Markdown, display\n",
    "    fmt = ['---' for i in range(len(df.columns))]\n",
    "    df_fmt = pd.DataFrame([fmt], columns=df.columns)\n",
    "    df_formatted = pd.concat([df_fmt, df])\n",
    "    return df_formatted.to_csv(sep=\"|\", index=False)"
   ]
  },
  {
   "cell_type": "markdown",
   "metadata": {},
   "source": [
    "### Best Parameters:"
   ]
  },
  {
   "cell_type": "code",
   "execution_count": 32,
   "metadata": {
    "collapsed": false
   },
   "outputs": [
    {
     "data": {
      "text/plain": [
       "DecisionTreeClassifier(class_weight=None, criterion='entropy', max_depth=None,\n",
       "            max_features=None, max_leaf_nodes=None,\n",
       "            min_impurity_split=1e-07, min_samples_leaf=1,\n",
       "            min_samples_split=2, min_weight_fraction_leaf=0.0,\n",
       "            presort=False, random_state=42, splitter='best')"
      ]
     },
     "execution_count": 32,
     "metadata": {},
     "output_type": "execute_result"
    }
   ],
   "source": [
    "params[\"DecisionTreeClassifier\"]"
   ]
  },
  {
   "cell_type": "code",
   "execution_count": 33,
   "metadata": {
    "collapsed": false
   },
   "outputs": [
    {
     "data": {
      "text/html": [
       "<div>\n",
       "<table border=\"1\" class=\"dataframe\">\n",
       "  <thead>\n",
       "    <tr style=\"text-align: right;\">\n",
       "      <th></th>\n",
       "      <th>Parameter</th>\n",
       "      <th>Weight</th>\n",
       "    </tr>\n",
       "  </thead>\n",
       "  <tbody>\n",
       "    <tr>\n",
       "      <th>0</th>\n",
       "      <td>from_poi_ratio</td>\n",
       "      <td>0.278774</td>\n",
       "    </tr>\n",
       "    <tr>\n",
       "      <th>1</th>\n",
       "      <td>total_stock_value</td>\n",
       "      <td>0.263039</td>\n",
       "    </tr>\n",
       "    <tr>\n",
       "      <th>2</th>\n",
       "      <td>exercised_stock_options</td>\n",
       "      <td>0.174847</td>\n",
       "    </tr>\n",
       "    <tr>\n",
       "      <th>3</th>\n",
       "      <td>loan_advances</td>\n",
       "      <td>0.088824</td>\n",
       "    </tr>\n",
       "    <tr>\n",
       "      <th>4</th>\n",
       "      <td>other</td>\n",
       "      <td>0.069320</td>\n",
       "    </tr>\n",
       "    <tr>\n",
       "      <th>5</th>\n",
       "      <td>from_this_person_to_poi</td>\n",
       "      <td>0.063640</td>\n",
       "    </tr>\n",
       "    <tr>\n",
       "      <th>6</th>\n",
       "      <td>bonus</td>\n",
       "      <td>0.061556</td>\n",
       "    </tr>\n",
       "  </tbody>\n",
       "</table>\n",
       "</div>"
      ],
      "text/plain": [
       "                 Parameter    Weight\n",
       "0           from_poi_ratio  0.278774\n",
       "1        total_stock_value  0.263039\n",
       "2  exercised_stock_options  0.174847\n",
       "3            loan_advances  0.088824\n",
       "4                    other  0.069320\n",
       "5  from_this_person_to_poi  0.063640\n",
       "6                    bonus  0.061556"
      ]
     },
     "execution_count": 33,
     "metadata": {},
     "output_type": "execute_result"
    }
   ],
   "source": [
    "from operator import itemgetter\n",
    "weights = zip(final_feature_list,params[\"DecisionTreeClassifier\"].feature_importances_)\n",
    "weights_df = pd.DataFrame(sorted(weights, key=itemgetter(1), reverse=True), columns=[\"Parameter\", \"Weight\"])\n",
    "weights_df[weights_df[\"Weight\"]>0]"
   ]
  },
  {
   "cell_type": "code",
   "execution_count": 37,
   "metadata": {
    "collapsed": true
   },
   "outputs": [],
   "source": [
    "clf = DecisionTreeClassifier(class_weight=None, criterion='entropy', max_depth=None,\n",
    "    max_features=None, max_leaf_nodes=None,\n",
    "    min_impurity_split=1e-07, min_samples_leaf=1,\n",
    "    min_samples_split=2, min_weight_fraction_leaf=0.0,\n",
    "    presort=False, random_state=42, splitter='best')"
   ]
  },
  {
   "cell_type": "code",
   "execution_count": 38,
   "metadata": {
    "collapsed": false
   },
   "outputs": [],
   "source": [
    "### Task 6: Dump your classifier, dataset, and features_list so anyone can\n",
    "### check your results. You do not need to change anything below, but make sure\n",
    "### that the version of poi_id.py that you submit can be run on its own and\n",
    "### generates the necessary .pkl files for validating your results.\n",
    "\n",
    "dump_classifier_and_data(clf, my_dataset, final_feature_list)"
   ]
  },
  {
   "cell_type": "code",
   "execution_count": 39,
   "metadata": {
    "collapsed": false
   },
   "outputs": [
    {
     "name": "stdout",
     "output_type": "stream",
     "text": [
      "DecisionTreeClassifier(class_weight=None, criterion='entropy', max_depth=None,\n",
      "            max_features=None, max_leaf_nodes=None,\n",
      "            min_impurity_split=1e-07, min_samples_leaf=1,\n",
      "            min_samples_split=2, min_weight_fraction_leaf=0.0,\n",
      "            presort=False, random_state=42, splitter='best')\n",
      "\tAccuracy: 0.85860\tPrecision: 0.46468\tRecall: 0.39800\tF1: 0.42876\tF2: 0.40976\n",
      "\tTotal predictions: 15000\tTrue positives:  796\tFalse positives:  917\tFalse negatives: 1204\tTrue negatives: 12083\n",
      "\n"
     ]
    }
   ],
   "source": [
    "# %load tester.py\n",
    "#!/usr/bin/pickle\n",
    "\n",
    "\"\"\" a basic script for importing student's POI identifier,\n",
    "    and checking the results that they get from it \n",
    " \n",
    "    requires that the algorithm, dataset, and features list\n",
    "    be written to my_classifier.pkl, my_dataset.pkl, and\n",
    "    my_feature_list.pkl, respectively\n",
    "\n",
    "    that process should happen at the end of poi_id.py\n",
    "\"\"\"\n",
    "\n",
    "import pickle\n",
    "import sys\n",
    "from sklearn.cross_validation import StratifiedShuffleSplit\n",
    "sys.path.append(\"../tools/\")\n",
    "from feature_format import featureFormat, targetFeatureSplit\n",
    "\n",
    "PERF_FORMAT_STRING = \"\\\n",
    "\\tAccuracy: {:>0.{display_precision}f}\\tPrecision: {:>0.{display_precision}f}\\t\\\n",
    "Recall: {:>0.{display_precision}f}\\tF1: {:>0.{display_precision}f}\\tF2: {:>0.{display_precision}f}\"\n",
    "RESULTS_FORMAT_STRING = \"\\tTotal predictions: {:4d}\\tTrue positives: {:4d}\\tFalse positives: {:4d}\\\n",
    "\\tFalse negatives: {:4d}\\tTrue negatives: {:4d}\"\n",
    "\n",
    "def test_classifier(clf, dataset, feature_list, folds = 1000):\n",
    "    data = featureFormat(dataset, feature_list, sort_keys = True)\n",
    "    labels, features = targetFeatureSplit(data)\n",
    "    cv = StratifiedShuffleSplit(labels, folds, random_state = 42)\n",
    "    true_negatives = 0\n",
    "    false_negatives = 0\n",
    "    true_positives = 0\n",
    "    false_positives = 0\n",
    "    for train_idx, test_idx in cv: \n",
    "        features_train = []\n",
    "        features_test  = []\n",
    "        labels_train   = []\n",
    "        labels_test    = []\n",
    "        for ii in train_idx:\n",
    "            features_train.append( features[ii] )\n",
    "            labels_train.append( labels[ii] )\n",
    "        for jj in test_idx:\n",
    "            features_test.append( features[jj] )\n",
    "            labels_test.append( labels[jj] )\n",
    "        \n",
    "        ### fit the classifier using training set, and test on test set\n",
    "        clf.fit(features_train, labels_train)\n",
    "        predictions = clf.predict(features_test)\n",
    "        for prediction, truth in zip(predictions, labels_test):\n",
    "            if prediction == 0 and truth == 0:\n",
    "                true_negatives += 1\n",
    "            elif prediction == 0 and truth == 1:\n",
    "                false_negatives += 1\n",
    "            elif prediction == 1 and truth == 0:\n",
    "                false_positives += 1\n",
    "            elif prediction == 1 and truth == 1:\n",
    "                true_positives += 1\n",
    "            else:\n",
    "                print \"Warning: Found a predicted label not == 0 or 1.\"\n",
    "                print \"All predictions should take value 0 or 1.\"\n",
    "                print \"Evaluating performance for processed predictions:\"\n",
    "                break\n",
    "    try:\n",
    "        total_predictions = true_negatives + false_negatives + false_positives + true_positives\n",
    "        accuracy = 1.0*(true_positives + true_negatives)/total_predictions\n",
    "        precision = 1.0*true_positives/(true_positives+false_positives)\n",
    "        recall = 1.0*true_positives/(true_positives+false_negatives)\n",
    "        f1 = 2.0 * true_positives/(2*true_positives + false_positives+false_negatives)\n",
    "        f2 = (1+2.0*2.0) * precision*recall/(4*precision + recall)\n",
    "        print clf\n",
    "        print PERF_FORMAT_STRING.format(accuracy, precision, recall, f1, f2, display_precision = 5)\n",
    "        print RESULTS_FORMAT_STRING.format(total_predictions, true_positives, false_positives, false_negatives, true_negatives)\n",
    "        print \"\"\n",
    "    except:\n",
    "        print \"Got a divide by zero when trying out:\", clf\n",
    "        print \"Precision or recall may be undefined due to a lack of true positive predicitons.\"\n",
    "\n",
    "CLF_PICKLE_FILENAME = \"my_classifier.pkl\"\n",
    "DATASET_PICKLE_FILENAME = \"my_dataset.pkl\"\n",
    "FEATURE_LIST_FILENAME = \"my_feature_list.pkl\"\n",
    "\n",
    "def dump_classifier_and_data(clf, dataset, feature_list):\n",
    "    with open(CLF_PICKLE_FILENAME, \"w\") as clf_outfile:\n",
    "        pickle.dump(clf, clf_outfile)\n",
    "    with open(DATASET_PICKLE_FILENAME, \"w\") as dataset_outfile:\n",
    "        pickle.dump(dataset, dataset_outfile)\n",
    "    with open(FEATURE_LIST_FILENAME, \"w\") as featurelist_outfile:\n",
    "        pickle.dump(feature_list, featurelist_outfile)\n",
    "\n",
    "def load_classifier_and_data():\n",
    "    with open(CLF_PICKLE_FILENAME, \"r\") as clf_infile:\n",
    "        clf = pickle.load(clf_infile)\n",
    "    with open(DATASET_PICKLE_FILENAME, \"r\") as dataset_infile:\n",
    "        dataset = pickle.load(dataset_infile)\n",
    "    with open(FEATURE_LIST_FILENAME, \"r\") as featurelist_infile:\n",
    "        feature_list = pickle.load(featurelist_infile)\n",
    "    return clf, dataset, feature_list\n",
    "\n",
    "def main():\n",
    "    ### load up student's classifier, dataset, and feature_list\n",
    "    clf, dataset, feature_list = load_classifier_and_data()\n",
    "    ### Run testing script\n",
    "    test_classifier(clf, dataset, feature_list)\n",
    "\n",
    "if __name__ == '__main__':\n",
    "    main()\n"
   ]
  },
  {
   "cell_type": "code",
   "execution_count": null,
   "metadata": {
    "collapsed": true
   },
   "outputs": [],
   "source": []
  }
 ],
 "metadata": {
  "kernelspec": {
   "display_name": "Python 2",
   "language": "python",
   "name": "python2"
  },
  "language_info": {
   "codemirror_mode": {
    "name": "ipython",
    "version": 2
   },
   "file_extension": ".py",
   "mimetype": "text/x-python",
   "name": "python",
   "nbconvert_exporter": "python",
   "pygments_lexer": "ipython2",
   "version": "2.7.13"
  }
 },
 "nbformat": 4,
 "nbformat_minor": 2
}
