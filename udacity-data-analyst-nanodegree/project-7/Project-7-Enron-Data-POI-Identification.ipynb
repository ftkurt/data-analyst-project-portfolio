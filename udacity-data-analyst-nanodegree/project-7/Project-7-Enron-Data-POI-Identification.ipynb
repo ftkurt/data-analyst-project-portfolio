{
 "cells": [
  {
   "cell_type": "markdown",
   "metadata": {},
   "source": [
    "# Question 1\n",
    "> Summarize for us the goal of this project and how machine learning is useful in trying to accomplish it. As part of your answer, give some background on the dataset and how it can be used to answer the project question. Were there any outliers in the data when you got it, and how did you handle those?  [relevant rubric items: “data exploration”, “outlier investigation”]"
   ]
  },
  {
   "cell_type": "markdown",
   "metadata": {},
   "source": [
    "This project aims to build an efficient machine learning algorithm to programatically detect potential persons of interest within data. The model is expected to make the best use of available features withing Enron Dataset as well as creating new features to predict the poi from the available features. \n",
    "\n",
    "Enron data has 146 data points, 18 of which belong POIs. Each datapoint has 14 features. Features cover a wide variety of data from financial attributes like salary, bonuses, payments to email statistics like emails to POI, and emails from POI. Almost all features have missing values. We should also address this issue during this project.\n",
    "\n",
    "Dataset has one outlier data which belongs to an entry named *TOTAL*. This entry clearly points to the subtotal for the entire dataset, and thereby should be discarded. Another entry named *LOCKHART EUGENE E* has no data point. Therefore we also di,scarded this. Discaridng these entries leaves 18 POI and 126 non-POI entries. With 12.5% POI within dataset, data is skewed towards non-POIs. We should keep an eye on this insight during score extractions from models. Assuming we are primarily concerned with detecting as many POIs as possible, recall will be the primary score we will be looking to."
   ]
  },
  {
   "cell_type": "markdown",
   "metadata": {},
   "source": [
    "# Question 2\n",
    "> What features did you end up using in your POI identifier, and what selection process did you use to pick them? Did you have to do any scaling? Why or why not? As part of the assignment, you should attempt to engineer your own feature that does not come ready-made in the dataset -- explain what feature you tried to make, and the rationale behind it. (You do not necessarily have to use it in the final analysis, only engineer and test it.) In your feature selection step, if you used an algorithm like a decision tree, please also give the feature importances of the features that you use, and if you used an automated feature selection function like SelectKBest, please report the feature scores and reasons for your choice of parameter values.  [relevant rubric items: “create new features”, “intelligently select features”, “properly scale features”]"
   ]
  },
  {
   "cell_type": "markdown",
   "metadata": {},
   "source": [
    "Since the number of variables was within acecptable range, I started with the full set to decide on an model parameters. Later on I was planning on reducing number of parameters. First approach was using Tree Classifier parameter weights extracted from trained classifier usign full variable set. \n",
    "\n",
    "#### Here is list of parameters with non-zero values (Weights before New Features):\n",
    "\n",
    "Parameter|Weight\n",
    "---|---\n",
    "from_this_person_to_poi|0.247\n",
    "expenses|0.16\n",
    "deferral_payments|0.149\n",
    "restricted_stock_deferred|0.094\n",
    "restricted_stock|0.082\n",
    "shared_receipt_with_poi|0.078\n",
    "from_messages|0.075\n",
    "other|0.055\n",
    "deferred_income|0.055"
   ]
  },
  {
   "cell_type": "markdown",
   "metadata": {},
   "source": [
    "I did not use any scaling, knowing scaling would have no effect on tree classifiers which I believed will be optimal predictors for this project. However, I filled missing values each with a **GaussianNB** predictor that used all parameters other than the original one plus the **poi** parameter. Later on the predictions from **GaussianNB** predictor are used to fill missing values.\n",
    "\n",
    "I created two new variables, one for **ratio of mails received from POIs**, and the other for **ratio of mail sent to POIs**. I believe the numbers of mails sent to POI or received thereof would not give meaningful info. SOme might be sending too many emails or too few emails overall. In this case, having the ratio for their POI related emails would provide better insight.\n",
    "\n",
    "#### Weights after New Features:\n",
    "Parameter|Weight\n",
    "---|---\n",
    "to_poi_ratio|0.365\n",
    "expenses|0.167\n",
    "shared_receipt_with_poi|0.111\n",
    "restricted_stock|0.11\n",
    "restricted_stock_deferred|0.094\n",
    "deferral_payments|0.093\n",
    "other|0.055\n"
   ]
  },
  {
   "cell_type": "markdown",
   "metadata": {},
   "source": [
    "#### Finalization or Feature Selection Based on Weights\n",
    "\n",
    "In order to finalize the feature selection, I employed a gradual feature disposer which tests performance of each subset of features. The gradual feature disposer, showed increasing performance in Accuracy until the feature list is as below: \n",
    "\n",
    "    feature_list = [\n",
    "        'to_poi_ratio',\n",
    "        'from_poi_to_this_person',\n",
    "        'shared_receipt_with_poi',\n",
    "        'restricted_stock_deferred',\n",
    "        'expenses',\n",
    "        'deferral_payments',\n",
    "        'from_poi_ratio',\n",
    "        'salary',\n",
    "        'to_messages',\n",
    "        'total_payments',\n",
    "        'exercised_stock_options',\n",
    "        'bonus'\n",
    "    ]"
   ]
  },
  {
   "cell_type": "markdown",
   "metadata": {},
   "source": [
    "#### New Features and Their Contribution to the Classification:\n",
    "**from_poi_ratio:** ratio of mails received from POIs\n",
    "\n",
    "**to_poi_ratio:** ratio of mail sent to POIs\n",
    "\n",
    "From first run with full feature list, I concluded that *from_poi_ratio* contributed to the classification better than any other variable with a weight of 0.28. However, *to_poi_ratio* seems to be contribution no meaningfull information. On the other hand, addition of these new features changed weights of other parameters. Most notably, *from_poi_to_this_person* is down to out of list from top position with 0.29.\n",
    "\n",
    "#### Second Approach:\n",
    "\n",
    "My second approach was finding features having correlation with poi higher than a certain limit, and other features that have a correlation higher than this certain limit with those that have this correlation with poi, and so forth until a depth value. I first used a depth of 1, since my initial correlation test showed that there are >0.9 correlations. However, after careful inspection, I found out, these high correlations were due to too many missing values. Therefore, I rerun the correlation routine after predicting missing values, which gave me sub 0.4 correlations. Finally I decided to use correlation limit of 0.35 with the depth value of 2. In addition to these features, I also included new features I created in the prior step.\n",
    "\n",
    "![Correlations Table](correlations.png)\n",
    "\n",
    "Here is the full feature set I managed to get at the end of this process:\n",
    "\n",
    "    feature_list = [\n",
    "        'poi',\n",
    "        'exercised_stock_options',\n",
    "        'total_stock_value',\n",
    "        'salary',\n",
    "        'total_payments',\n",
    "        'bonus',\n",
    "        'restricted_stock',\n",
    "        'loan_advances',\n",
    "        'other',\n",
    "        'long_term_incentive',\n",
    "        'restricted_stock_deferred',\n",
    "        'to_messages',\n",
    "        'shared_receipt_with_poi',\n",
    "        'from_this_person_to_poi',\n",
    "        'from_poi_to_this_person'\n",
    "    ]\n",
    "\n",
    "#### Weights for Correlation Feature Selection:\n",
    "Parameter|Weight\n",
    "---|---\n",
    "to_poi_ratio|0.278\n",
    "total_stock_value|0.217\n",
    "from_poi_to_this_person|0.146\n",
    "total_payments|0.089\n",
    "bonus|0.073\n",
    "to_messages|0.068\n",
    "shared_receipt_with_poi|0.064\n",
    "restricted_stock|0.061\n",
    "\n",
    "Seem like most of variables like *restricted_stock_deferred*, *loan_advances* did not effect the classification and contributed no meaningful info."
   ]
  },
  {
   "cell_type": "markdown",
   "metadata": {},
   "source": [
    "# Question 3\n",
    "> What algorithm did you end up using? What other one(s) did you try? How did model performance differ between algorithms?  [relevant rubric item: “pick an algorithm”]"
   ]
  },
  {
   "cell_type": "markdown",
   "metadata": {},
   "source": [
    "I decided to try all classifiers including linear models with an added rounding layer. From Linear models GaussianNB, and Linear Regression, the predictors are used without parameter tuning, since they dont have parameter tuning. For Lasso and other regular classifiers, I used a set of parameters with Grid Search. All scores listed below belong to best parameter combinations."
   ]
  },
  {
   "cell_type": "markdown",
   "metadata": {},
   "source": [
    "#### Trial-1: Full Feature Set Results:\n",
    "\n",
    "Classifier|Accuracy|Precision|Recall|F1 Score|F2 Score\n",
    "---|---|---|---|---|---\n",
    "GaussianNB|0.886|0.333|0.249|0.285|0.263\n",
    "Linear Regression|0.863|0.249|0.249|0.249|0.249\n",
    "Lasso|0.863|0.249|0.249|0.249|0.249\n",
    "SVC|0.909|0.0|0.0|0.0|0.0\n",
    "DecisionTreeClassifier|0.863|0.249|0.249|0.249|0.249\n",
    "RandomForestClassifier|0.931|0.999|0.249|0.399|0.294\n",
    "__________\n",
    "#### Trial-2: Full Feature Set Results + New Features:\n",
    "\n",
    "Classifier|Accuracy|Precision|Recall|F1 Score|F2 Score\n",
    "---|---|---|---|---|---\n",
    "GaussianNB|0.886|0.333|0.249|0.285|0.263\n",
    "Linear Regression|0.863|0.249|0.249|0.249|0.249\n",
    "Lasso|0.863|0.249|0.249|0.249|0.249\n",
    "SVC|0.909|0.0|0.0|0.0|0.0\n",
    "DecisionTreeClassifier|0.863|0.374|0.749|0.499|0.624\n",
    "RandomForestClassifier|0.931|0.666|0.499|0.571|0.526\n",
    "______________\n",
    "#### Trial-3: DecisionTreeClassifier Weights Feature Selector <span style=\"color:red;\">(Choosen Approach upon Results)</span>\n",
    "\n",
    "Classifier|Accuracy|Precision|Recall|F1 Score|F2 Score\n",
    "---|---|---|---|---|---\n",
    "GaussianNB|0.886|0.499|0.599|0.545|0.576\n",
    "Linear Regression|0.909|0.666|0.399|0.499|0.434\n",
    "Lasso|0.909|0.666|0.399|0.499|0.434\n",
    "SVC|0.886|0.0|0.0|0.0|0.0\n",
    "DecisionTreeClassifier|0.909|0.666|0.399|0.499|0.434\n",
    "RandomForestClassifier|0.886|0.0|0.0|0.0|0.0\n",
    "\n",
    "**Tester.py Scores for DecisionTreeClassifier:**\n",
    "\n",
    "* Accuracy: 0.85967\t\n",
    "* Precision: 0.46436\t\n",
    "* Recall: 0.34200\n",
    "_________________\n",
    "#### Trial-4: Correlation (Depth = 2, Correlation Limit = 0.35) Results:\n",
    "\n",
    "Classifier|Accuracy|Precision|Recall|F1 Score|F2 Score\n",
    "---|---|---|---|---|---\n",
    "GaussianNB|0.863|0.249|0.249|0.249|0.249\n",
    "Linear Regression|0.863|0.249|0.249|0.249|0.249\n",
    "Lasso|0.84|0.199|0.249|0.222|0.238\n",
    "SVC|0.909|0.0|0.0|0.0|0.0\n",
    "DecisionTreeClassifier|0.909|0.499|0.749|0.599|0.681\n",
    "RandomForestClassifier|0.909|0.499|0.249|0.333|0.277\n",
    "\n",
    "* Since this approach yielded no meaningful results upon earlier results, I decided not to do further tests with different Depths and Correlation limits. \n"
   ]
  },
  {
   "cell_type": "markdown",
   "metadata": {},
   "source": [
    "## Results for Classifier and Feature Set"
   ]
  },
  {
   "cell_type": "markdown",
   "metadata": {},
   "source": [
    "* The best scores belong to **Trial-3: DecisionTreeClassifier Weights Feature Selector**; therefore, we decided to do our tests with feature set used for this trial. \n",
    "\n",
    "* **DecisionTreeClassifier w/ Weights Feature Selector** gave best results with highest Recall score of DecisionTreeClassifier (75%) and highest Precision of RandomForestClassifier (100%). \n",
    "\n",
    "* Since finding all POIs is more important than precisely finding correct POIs, the primary score is Recall. Therefore, I decided to go with **DecisionTreeClassifier**."
   ]
  },
  {
   "cell_type": "markdown",
   "metadata": {},
   "source": [
    "# Question 4\n",
    "> What does it mean to tune the parameters of an algorithm, and what can happen if you don’t do this well?  How did you tune the parameters of your particular algorithm? What parameters did you tune? (Some algorithms do not have parameters that you need to tune -- if this is the case for the one you picked, identify and briefly explain how you would have done it for the model that was not your final choice or a different model that does utilize parameter tuning, e.g. a decision tree classifier).  [relevant rubric items: “discuss parameter tuning”, “tune the algorithm”]"
   ]
  },
  {
   "cell_type": "markdown",
   "metadata": {},
   "source": [
    "Classifiers have a lot of parameters in order to decide their behaviors with fitting data and classifiying input. Each data will need different set of parameter values to classify input the most efficiently. Parameter tuning is trying to find these best parameters or getting close enough. \n",
    "\n",
    "Parameter fine tuning is essential in a sense that when igoned an otherwise very successful model could prove futile. A fined-tuned model would in theory produce much better results. Therefore, when performed, parameter tuning will ensure that at least we are using a parameter set closer to the ideal than a random parameter set.\n",
    "\n",
    "For this project I went through list of parameters available for tuning for each classifier. Each classifier is then wrapped with GridSearch alongside with this parameter ranges. Gridsearch, then tries all combinations of these parameter valu lists, and returns the best predictor configuration.\n",
    "\n",
    "Parameters tuned for each model are as below:"
   ]
  },
  {
   "cell_type": "markdown",
   "metadata": {},
   "source": [
    "#### Lasso\n",
    "\n",
    "    parameters = {\n",
    "        \"alpha\":[0.6,0.85,0.95,1.0],\n",
    "        \"fit_intercept\":[True,False]\n",
    "    }\n",
    "\n",
    "#### SVM\n",
    "    parameters = {\n",
    "        \"C\":[0.1,1.0,10.0]\n",
    "    }\n",
    "\n",
    "#### DecisionTreeClassifier\n",
    "    parameters = {\n",
    "        \"criterion\":[\"gini\",\"entropy\"],\n",
    "        \"min_samples_leaf\":[1,2,5],\n",
    "        \"min_samples_split\":[2,4,10]\n",
    "    }\n",
    "\n",
    "#### RandomForestClassifier\n",
    "    parameters = {\n",
    "        \"criterion\":[\"gini\",\"entropy\"],\n",
    "        \"n_estimators\":[5,10,30,100,200],\n",
    "        \"min_samples_leaf\":[1,2,5],\n",
    "        \"min_samples_split\":[2,4,10]\n",
    "    }\n"
   ]
  },
  {
   "cell_type": "markdown",
   "metadata": {},
   "source": [
    "At the end of parameter tuning I decided to go with **DecisionTreeClassifier**. The best parameters found with this classifier are as below:\n",
    "\n",
    "    DecisionTreeClassifier(criterion='gini', min_samples_leaf=1, min_samples_split=2)"
   ]
  },
  {
   "cell_type": "markdown",
   "metadata": {},
   "source": [
    "# Question 5\n",
    "> What is validation, and what’s a classic mistake you can make if you do it wrong? How did you validate your analysis?  [relevant rubric items: “discuss validation”, “validation strategy”]"
   ]
  },
  {
   "cell_type": "markdown",
   "metadata": {},
   "source": [
    "Validation is testing the classifier / model built for the purpose or classifying new data. To do this, original data should be split into two groups; namely, **train** and **test**. Splitting data in this way helps to evaluate the classifier with a dataset, the model never seen until this point. Thereby, we can make sure the evaluation does inded reflect unbiased results.\n",
    "\n",
    "If we dont split dataset, the validation will be made with the same data the classifier is fitted/trained. In this case we will be asking classifier to classify data that it already know very well. This, will lean unrealistic scores. And even if classifier is overfit, we will no way of knowing.\n",
    "\n",
    "Train data is used to build model/classifier. Test data is used to validate if the model behaves as expected. Test data is expected to be completely new to the classifier at the time testing. Test data can also be split into validation and test for bling testing. But in this project we only split data into train and test.\n",
    "\n",
    "However, Enron Dataset has asymmetry in terms of POI / non-POI ratio. This may lead to shuffle splits leading to different rations of POI/non-POI in train and test subsets. In cases like this stratification can be used. K-fold cross-validation is a common approach used with stratification. Stratification is simply puts POIs and non-POIs into subsets with the ratio entire dataset has. However, in this project, we did not use stratification. Instead we used basic shuffle split.\n",
    "\n",
    "However in model building stage of this project we only used shuffle split with train and test subsets. We first fitted out classifiers with train dataset. Later on we evaluated our classifiers based on test data. \n",
    "\n",
    "However this type of evaluation is not deterministic enough. To get results better evaluating classifier n-fold validation is used. In this method, data is reshuffled n times and tested with split results for each fold. Overall results are then combined. "
   ]
  },
  {
   "cell_type": "markdown",
   "metadata": {},
   "source": [
    "# Question 6\n",
    "> Give at least 2 evaluation metrics and your average performance for each of them.  Explain an interpretation of your metrics that says something human-understandable about your algorithm’s performance. [relevant rubric item: “usage of evaluation metrics”]"
   ]
  },
  {
   "cell_type": "markdown",
   "metadata": {},
   "source": [
    "**Accuracy:** The ratio of which prediction of POIs match the truth about employee\n",
    "\n",
    "**Recall:** The ratio of POIs being identified.\n",
    "\n",
    "**Precision:** The ratio of identified entries being POIs\n",
    "\n",
    "My DecisionTreeClassifier achieved following scores for these metrics:\n",
    "\n",
    "#### Using Train & Test Split: \n",
    "\n",
    "* Accuracy: **0.91**\n",
    "\n",
    "* Recall: **0.5**\n",
    "\n",
    "* Precision: **0.75**\n",
    "\n",
    "While validating my classifiers I only user train-test split. However, tester script provided with the project evaluates the model with k-fold cross-validation. Evaluation results with this scripts are as follows:\n",
    "\n",
    "\n",
    "#### Using Project Testing Script / tester.py (Cross-Validation: 1000):\n",
    "\n",
    "* Accuracy: **0.86**\t\n",
    "* Precision: **0.46**\t\n",
    "* Recall: **0.36**\n",
    "\n",
    "\n",
    "The difference between my results and CV results is mostly due to train-test split being in favor my results, which shows how cross validation can help better evaluate a classifier. "
   ]
  }
 ],
 "metadata": {
  "kernelspec": {
   "display_name": "Python 2",
   "language": "python",
   "name": "python2"
  },
  "language_info": {
   "codemirror_mode": {
    "name": "ipython",
    "version": 2
   },
   "file_extension": ".py",
   "mimetype": "text/x-python",
   "name": "python",
   "nbconvert_exporter": "python",
   "pygments_lexer": "ipython2",
   "version": "2.7.13"
  }
 },
 "nbformat": 4,
 "nbformat_minor": 2
}
